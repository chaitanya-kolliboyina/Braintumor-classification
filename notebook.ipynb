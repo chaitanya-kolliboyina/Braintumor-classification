{
 "cells": [
  {
   "cell_type": "code",
   "execution_count": 1,
   "metadata": {},
   "outputs": [],
   "source": [
    "import numpy as np\n",
    "import pandas as pd\n",
    "import matplotlib.pyplot as plt\n",
    "import seaborn as sb\n",
    "import os\n",
    "import time \n",
    "import random\n",
    "import tensorflow as tf\n",
    "from tensorflow.keras.preprocessing.image import load_img\n",
    "from tensorflow.keras.layers import *\n",
    "from tensorflow.keras.applications.resnet50 import ResNet50\n",
    "from tensorflow.keras.applications.resnet50 import preprocess_input\n",
    "from tensorflow.keras.models import *\n",
    "from tensorflow.keras.losses import *\n",
    "from tensorflow.keras.optimizers import *\n",
    "from tensorflow.keras.preprocessing.image import img_to_array\n",
    "from tensorflow.keras.preprocessing.image import ImageDataGenerator, load_img\n",
    "from tensorflow.keras.utils import to_categorical,image_dataset_from_directory\n",
    "\n",
    "from sklearn.preprocessing import LabelEncoder\n",
    "from sklearn.metrics import multilabel_confusion_matrix,roc_auc_score,confusion_matrix\n",
    "from sklearn.metrics import accuracy_score,classification_report,precision_score,recall_score\n",
    "\n",
    "import warnings\n",
    "warnings.filterwarnings(\"ignore\")\n"
   ]
  },
  {
   "cell_type": "code",
   "execution_count": 2,
   "metadata": {},
   "outputs": [],
   "source": [
    "training_path = r'C:\\Users\\Chaitanya\\Documents\\B.tech\\4-1\\CV_Lab_internal\\Image\\Training'\n",
    "testing_path = r'C:\\Users\\Chaitanya\\Documents\\B.tech\\4-1\\CV_Lab_internal\\Image\\Testing'"
   ]
  },
  {
   "cell_type": "code",
   "execution_count": 3,
   "metadata": {},
   "outputs": [],
   "source": [
    "physical_devices = tf.config.list_physical_devices('GPU')\n",
    "try:\n",
    "  tf.config.experimental.set_memory_growth(physical_devices[0], True)\n",
    "except:\n",
    "  # Invalid device or cannot modify virtual devices once initialized.\n",
    "  pass"
   ]
  },
  {
   "cell_type": "code",
   "execution_count": 5,
   "metadata": {},
   "outputs": [],
   "source": [
    "config = tf.compat.v1.ConfigProto()\n",
    "config.gpu_options.allow_growth = True\n",
    "session = tf.compat.v1.Session(config=config)"
   ]
  },
  {
   "cell_type": "code",
   "execution_count": 4,
   "metadata": {},
   "outputs": [
    {
     "name": "stdout",
     "output_type": "stream",
     "text": [
      "Found 5712 files belonging to 4 classes.\n",
      "Using 4570 files for training.\n"
     ]
    }
   ],
   "source": [
    "training_data = tf.keras.utils.image_dataset_from_directory(\n",
    "    training_path,\n",
    "    validation_split = 0.2,\n",
    "    seed = 48,\n",
    "    subset='training',\n",
    "    batch_size = 8,\n",
    "    image_size=(256, 256),\n",
    "    shuffle=True,\n",
    "    label_mode='categorical',\n",
    ")"
   ]
  },
  {
   "cell_type": "code",
   "execution_count": 5,
   "metadata": {},
   "outputs": [
    {
     "name": "stdout",
     "output_type": "stream",
     "text": [
      "Found 5712 files belonging to 4 classes.\n",
      "Using 1142 files for validation.\n"
     ]
    }
   ],
   "source": [
    "validation_data = tf.keras.utils.image_dataset_from_directory(\n",
    "    training_path,\n",
    "    validation_split = 0.2,\n",
    "    seed = 48,\n",
    "    batch_size = 8,\n",
    "    image_size=(256, 256),\n",
    "    shuffle=True,\n",
    "    subset='validation',\n",
    "    label_mode='categorical',\n",
    ")"
   ]
  },
  {
   "cell_type": "code",
   "execution_count": 6,
   "metadata": {},
   "outputs": [
    {
     "name": "stdout",
     "output_type": "stream",
     "text": [
      "Found 1311 files belonging to 4 classes.\n"
     ]
    }
   ],
   "source": [
    "testing_data = tf.keras.utils.image_dataset_from_directory(\n",
    "    testing_path,\n",
    "    seed = 48,\n",
    "    batch_size = 8,\n",
    "    image_size = (256, 256),\n",
    "    shuffle = True,\n",
    "    label_mode = \"categorical\",\n",
    ")"
   ]
  },
  {
   "cell_type": "code",
   "execution_count": 22,
   "metadata": {},
   "outputs": [
    {
     "data": {
      "text/plain": [
       "['glioma', 'meningioma', 'notumor', 'pituitary']"
      ]
     },
     "execution_count": 22,
     "metadata": {},
     "output_type": "execute_result"
    }
   ],
   "source": [
    "testing_data.class_names"
   ]
  },
  {
   "cell_type": "markdown",
   "metadata": {},
   "source": [
    "### ResNet50"
   ]
  },
  {
   "cell_type": "code",
   "execution_count": 7,
   "metadata": {},
   "outputs": [
    {
     "name": "stdout",
     "output_type": "stream",
     "text": [
      "Model: \"sequential\"\n",
      "_________________________________________________________________\n",
      " Layer (type)                Output Shape              Param #   \n",
      "=================================================================\n",
      " resnet50 (Functional)       (None, 8, 8, 2048)        23587712  \n",
      "                                                                 \n",
      " flatten (Flatten)           (None, 131072)            0         \n",
      "                                                                 \n",
      " dropout (Dropout)           (None, 131072)            0         \n",
      "                                                                 \n",
      " dense (Dense)               (None, 128)               16777344  \n",
      "                                                                 \n",
      " dropout_1 (Dropout)         (None, 128)               0         \n",
      "                                                                 \n",
      " dense_1 (Dense)             (None, 4)                 516       \n",
      "                                                                 \n",
      "=================================================================\n",
      "Total params: 40,365,572\n",
      "Trainable params: 40,312,452\n",
      "Non-trainable params: 53,120\n",
      "_________________________________________________________________\n"
     ]
    }
   ],
   "source": [
    "resnet_model = ResNet50(weights='imagenet', input_shape=(256,256,3), include_top=False)\n",
    "model_res = Sequential()\n",
    "model_res.add(Input(shape=(256,256,3)))\n",
    "model_res.add(resnet_model)\n",
    "model_res.add(Flatten())\n",
    "model_res.add(Dropout(0.25))\n",
    "model_res.add(Dense(128, activation='relu'))\n",
    "model_res.add(Dropout(0.2))\n",
    "model_res.add(Dense(4, activation='softmax')) # num labels = 4\n",
    "\n",
    "model_res.summary()"
   ]
  },
  {
   "cell_type": "code",
   "execution_count": 8,
   "metadata": {},
   "outputs": [],
   "source": [
    "model_res.compile(optimizer=Adam(learning_rate=0.0001),\n",
    "             loss='categorical_crossentropy',\n",
    "             metrics=['accuracy',tf.keras.metrics.Precision(),tf.keras.metrics.Recall()])"
   ]
  },
  {
   "cell_type": "code",
   "execution_count": 10,
   "metadata": {},
   "outputs": [
    {
     "name": "stdout",
     "output_type": "stream",
     "text": [
      "Epoch 1/15\n",
      "572/572 [==============================] - 97s 150ms/step - loss: 0.4514 - accuracy: 0.8678 - precision: 0.8773 - recall: 0.8589 - val_loss: 0.4338 - val_accuracy: 0.9124 - val_precision: 0.9170 - val_recall: 0.8993\n",
      "Epoch 2/15\n",
      "572/572 [==============================] - 84s 147ms/step - loss: 0.1865 - accuracy: 0.9451 - precision: 0.9481 - recall: 0.9427 - val_loss: 0.1034 - val_accuracy: 0.9685 - val_precision: 0.9693 - val_recall: 0.9676\n",
      "Epoch 3/15\n",
      "572/572 [==============================] - 85s 148ms/step - loss: 0.0822 - accuracy: 0.9735 - precision: 0.9752 - recall: 0.9726 - val_loss: 0.2079 - val_accuracy: 0.9448 - val_precision: 0.9457 - val_recall: 0.9448\n",
      "Epoch 4/15\n",
      "572/572 [==============================] - 85s 149ms/step - loss: 0.1554 - accuracy: 0.9593 - precision: 0.9607 - recall: 0.9582 - val_loss: 0.1673 - val_accuracy: 0.9650 - val_precision: 0.9649 - val_recall: 0.9641\n",
      "Epoch 5/15\n",
      "572/572 [==============================] - 86s 151ms/step - loss: 0.0873 - accuracy: 0.9766 - precision: 0.9774 - recall: 0.9755 - val_loss: 0.6158 - val_accuracy: 0.9256 - val_precision: 0.9302 - val_recall: 0.9221\n",
      "Epoch 6/15\n",
      "572/572 [==============================] - 87s 152ms/step - loss: 0.0215 - accuracy: 0.9926 - precision: 0.9926 - recall: 0.9921 - val_loss: 0.0631 - val_accuracy: 0.9825 - val_precision: 0.9825 - val_recall: 0.9816\n",
      "Epoch 7/15\n",
      "572/572 [==============================] - 88s 153ms/step - loss: 0.0338 - accuracy: 0.9899 - precision: 0.9902 - recall: 0.9899 - val_loss: 0.8503 - val_accuracy: 0.9116 - val_precision: 0.9114 - val_recall: 0.9098\n",
      "Epoch 8/15\n",
      "572/572 [==============================] - 88s 154ms/step - loss: 0.1130 - accuracy: 0.9716 - precision: 0.9719 - recall: 0.9702 - val_loss: 0.2273 - val_accuracy: 0.9457 - val_precision: 0.9480 - val_recall: 0.9422\n",
      "Epoch 9/15\n",
      "572/572 [==============================] - 89s 155ms/step - loss: 0.0504 - accuracy: 0.9880 - precision: 0.9886 - recall: 0.9877 - val_loss: 0.2743 - val_accuracy: 0.9501 - val_precision: 0.9509 - val_recall: 0.9492\n",
      "Epoch 10/15\n",
      "572/572 [==============================] - 89s 156ms/step - loss: 0.0724 - accuracy: 0.9832 - precision: 0.9831 - recall: 0.9825 - val_loss: 0.2575 - val_accuracy: 0.9632 - val_precision: 0.9632 - val_recall: 0.9632\n",
      "Epoch 11/15\n",
      "572/572 [==============================] - 89s 156ms/step - loss: 0.0310 - accuracy: 0.9915 - precision: 0.9917 - recall: 0.9915 - val_loss: 0.1954 - val_accuracy: 0.9790 - val_precision: 0.9790 - val_recall: 0.9790\n",
      "Epoch 12/15\n",
      "572/572 [==============================] - 90s 156ms/step - loss: 0.0443 - accuracy: 0.9904 - precision: 0.9906 - recall: 0.9904 - val_loss: 0.1618 - val_accuracy: 0.9694 - val_precision: 0.9702 - val_recall: 0.9694\n",
      "Epoch 13/15\n",
      "572/572 [==============================] - 90s 157ms/step - loss: 0.0320 - accuracy: 0.9910 - precision: 0.9912 - recall: 0.9910 - val_loss: 0.2166 - val_accuracy: 0.9685 - val_precision: 0.9693 - val_recall: 0.9685\n",
      "Epoch 14/15\n",
      "572/572 [==============================] - 90s 157ms/step - loss: 0.0366 - accuracy: 0.9915 - precision: 0.9915 - recall: 0.9912 - val_loss: 0.1915 - val_accuracy: 0.9545 - val_precision: 0.9545 - val_recall: 0.9545\n",
      "Epoch 15/15\n",
      "572/572 [==============================] - 814s 1s/step - loss: 0.1216 - accuracy: 0.9799 - precision: 0.9801 - recall: 0.9796 - val_loss: 1.3769 - val_accuracy: 0.9054 - val_precision: 0.9085 - val_recall: 0.9037\n"
     ]
    }
   ],
   "source": [
    "history=model_res.fit(training_data, \n",
    "          epochs=15,\n",
    "          validation_data=validation_data\n",
    "         )"
   ]
  },
  {
   "cell_type": "code",
   "execution_count": 2,
   "metadata": {},
   "outputs": [
    {
     "data": {
      "text/plain": [
       "[PhysicalDevice(name='/physical_device:GPU:0', device_type='GPU')]"
      ]
     },
     "execution_count": 2,
     "metadata": {},
     "output_type": "execute_result"
    }
   ],
   "source": [
    "tf.config.list_physical_devices('GPU')"
   ]
  },
  {
   "cell_type": "code",
   "execution_count": 11,
   "metadata": {},
   "outputs": [
    {
     "data": {
      "text/plain": [
       "{'current': 534797312, 'peak': 1742597376}"
      ]
     },
     "execution_count": 11,
     "metadata": {},
     "output_type": "execute_result"
    }
   ],
   "source": [
    "tf.config.experimental.get_memory_info('GPU:0')"
   ]
  },
  {
   "cell_type": "code",
   "execution_count": 13,
   "metadata": {},
   "outputs": [],
   "source": [
    "model_res.save('Resnet.h5')"
   ]
  },
  {
   "cell_type": "code",
   "execution_count": 14,
   "metadata": {},
   "outputs": [
    {
     "name": "stdout",
     "output_type": "stream",
     "text": [
      "164/164 [==============================] - 8s 45ms/step - loss: 2.1028 - accuracy: 0.8696 - precision: 0.8723 - recall: 0.8650\n"
     ]
    },
    {
     "data": {
      "text/plain": [
       "[2.1028308868408203,\n",
       " 0.8695651888847351,\n",
       " 0.8723077178001404,\n",
       " 0.8649885654449463]"
      ]
     },
     "execution_count": 14,
     "metadata": {},
     "output_type": "execute_result"
    }
   ],
   "source": [
    "model_res.evaluate(testing_data)"
   ]
  },
  {
   "cell_type": "code",
   "execution_count": 15,
   "metadata": {},
   "outputs": [
    {
     "data": {
      "image/png": "[encoded data removed]",
      "text/plain": [
       "<Figure size 360x360 with 1 Axes>"
      ]
     },
     "metadata": {
      "needs_background": "light"
     },
     "output_type": "display_data"
    },
    {
     "data": {
      "image/png": "[encoded data removed]",
      "text/plain": [
       "<Figure size 360x360 with 1 Axes>"
      ]
     },
     "metadata": {
      "needs_background": "light"
     },
     "output_type": "display_data"
    }
   ],
   "source": [
    "plt.figure(figsize=(5,5))\n",
    "# summarize history for accuracy\n",
    "hist=history.history\n",
    "plt.plot(hist[\"accuracy\"],color=\"b\",label=\"train_accuracy\")\n",
    "plt.plot(hist[\"val_accuracy\"],color=\"g\",label=\"val_accuracy\")\n",
    "plt.title('model accuracy')\n",
    "plt.ylabel('accuracy')\n",
    "plt.xlabel('epoch')\n",
    "plt.legend(loc=\"lower right\")\n",
    "plt.show()\n",
    "\n",
    "plt.figure(figsize=(5,5))\n",
    "# summarize history for loss\n",
    "plt.plot(hist['loss'],color=\"b\",label=\"train_loss\")\n",
    "plt.plot(hist['val_loss'],color=\"g\",label=\"val_loss\")\n",
    "plt.title('model loss')\n",
    "plt.ylabel('loss')\n",
    "plt.xlabel('epoch')\n",
    "plt.legend( loc='upper left')\n",
    "plt.show()"
   ]
  },
  {
   "cell_type": "markdown",
   "metadata": {},
   "source": [
    "### CNN"
   ]
  },
  {
   "cell_type": "code",
   "execution_count": 17,
   "metadata": {},
   "outputs": [],
   "source": [
    "filter_size=(5,5)\n",
    "model_cnn=tf.keras.Sequential([\n",
    "    \n",
    "    tf.keras.layers.Conv2D(32,kernel_size=filter_size,activation='relu',input_shape=(256,256,3)),\n",
    "    tf.keras.layers.BatchNormalization(),\n",
    "    tf.keras.layers.MaxPooling2D(pool_size=(2,2)),\n",
    "    tf.keras.layers.Dropout(.2),\n",
    "    \n",
    "    tf.keras.layers.Conv2D(64,kernel_size=filter_size,activation='relu'),\n",
    "    tf.keras.layers.BatchNormalization(),\n",
    "    tf.keras.layers.MaxPooling2D(pool_size=(2,2)),\n",
    "    tf.keras.layers.Dropout(.2),\n",
    "    \n",
    "    tf.keras.layers.Conv2D(128,kernel_size=filter_size,activation='relu'),\n",
    "    tf.keras.layers.BatchNormalization(),\n",
    "    tf.keras.layers.MaxPooling2D(pool_size=(2,2)),\n",
    "    tf.keras.layers.Dropout(.2),\n",
    "\n",
    "    tf.keras.layers.Conv2D(128,kernel_size=filter_size,activation='relu'),\n",
    "    tf.keras.layers.BatchNormalization(),\n",
    "    tf.keras.layers.MaxPooling2D(pool_size=(2,2)),\n",
    "    tf.keras.layers.Dropout(.2),\n",
    "    \n",
    "    tf.keras.layers.Flatten(),\n",
    "    tf.keras.layers.Dense(512,activation='relu'),\n",
    "    tf.keras.layers.Dropout(.2),\n",
    "    tf.keras.layers.Dense(512,activation='relu'),\n",
    "    tf.keras.layers.Dropout(.2),\n",
    "    \n",
    "    tf.keras.layers.Dense(4,activation='softmax')\n",
    "])  "
   ]
  },
  {
   "cell_type": "code",
   "execution_count": 18,
   "metadata": {},
   "outputs": [
    {
     "name": "stdout",
     "output_type": "stream",
     "text": [
      "Model: \"sequential_1\"\n",
      "_________________________________________________________________\n",
      " Layer (type)                Output Shape              Param #   \n",
      "=================================================================\n",
      " conv2d (Conv2D)             (None, 252, 252, 32)      2432      \n",
      "                                                                 \n",
      " batch_normalization (BatchN  (None, 252, 252, 32)     128       \n",
      " ormalization)                                                   \n",
      "                                                                 \n",
      " max_pooling2d (MaxPooling2D  (None, 126, 126, 32)     0         \n",
      " )                                                               \n",
      "                                                                 \n",
      " dropout_2 (Dropout)         (None, 126, 126, 32)      0         \n",
      "                                                                 \n",
      " conv2d_1 (Conv2D)           (None, 122, 122, 64)      51264     \n",
      "                                                                 \n",
      " batch_normalization_1 (Batc  (None, 122, 122, 64)     256       \n",
      " hNormalization)                                                 \n",
      "                                                                 \n",
      " max_pooling2d_1 (MaxPooling  (None, 61, 61, 64)       0         \n",
      " 2D)                                                             \n",
      "                                                                 \n",
      " dropout_3 (Dropout)         (None, 61, 61, 64)        0         \n",
      "                                                                 \n",
      " conv2d_2 (Conv2D)           (None, 57, 57, 128)       204928    \n",
      "                                                                 \n",
      " batch_normalization_2 (Batc  (None, 57, 57, 128)      512       \n",
      " hNormalization)                                                 \n",
      "                                                                 \n",
      " max_pooling2d_2 (MaxPooling  (None, 28, 28, 128)      0         \n",
      " 2D)                                                             \n",
      "                                                                 \n",
      " dropout_4 (Dropout)         (None, 28, 28, 128)       0         \n",
      "                                                                 \n",
      " conv2d_3 (Conv2D)           (None, 24, 24, 128)       409728    \n",
      "                                                                 \n",
      " batch_normalization_3 (Batc  (None, 24, 24, 128)      512       \n",
      " hNormalization)                                                 \n",
      "                                                                 \n",
      " max_pooling2d_3 (MaxPooling  (None, 12, 12, 128)      0         \n",
      " 2D)                                                             \n",
      "                                                                 \n",
      " dropout_5 (Dropout)         (None, 12, 12, 128)       0         \n",
      "                                                                 \n",
      " flatten_1 (Flatten)         (None, 18432)             0         \n",
      "                                                                 \n",
      " dense_2 (Dense)             (None, 512)               9437696   \n",
      "                                                                 \n",
      " dropout_6 (Dropout)         (None, 512)               0         \n",
      "                                                                 \n",
      " dense_3 (Dense)             (None, 512)               262656    \n",
      "                                                                 \n",
      " dropout_7 (Dropout)         (None, 512)               0         \n",
      "                                                                 \n",
      " dense_4 (Dense)             (None, 4)                 2052      \n",
      "                                                                 \n",
      "=================================================================\n",
      "Total params: 10,372,164\n",
      "Trainable params: 10,371,460\n",
      "Non-trainable params: 704\n",
      "_________________________________________________________________\n"
     ]
    }
   ],
   "source": [
    "model_cnn.summary()"
   ]
  },
  {
   "cell_type": "code",
   "execution_count": 19,
   "metadata": {},
   "outputs": [],
   "source": [
    "model_cnn.compile(optimizer=Adam(learning_rate=0.0001),\n",
    "             loss='categorical_crossentropy',\n",
    "             metrics=['accuracy',tf.keras.metrics.Precision(),tf.keras.metrics.Recall()])"
   ]
  },
  {
   "cell_type": "code",
   "execution_count": 20,
   "metadata": {},
   "outputs": [
    {
     "name": "stdout",
     "output_type": "stream",
     "text": [
      "Epoch 1/15\n",
      "572/572 [==============================] - 45s 74ms/step - loss: 0.8851 - accuracy: 0.7153 - precision_1: 0.7353 - recall_1: 0.6930 - val_loss: 0.5725 - val_accuracy: 0.7837 - val_precision_1: 0.7980 - val_recall_1: 0.7644\n",
      "Epoch 2/15\n",
      "572/572 [==============================] - 42s 73ms/step - loss: 0.5537 - accuracy: 0.8079 - precision_1: 0.8206 - recall_1: 0.7875 - val_loss: 0.4616 - val_accuracy: 0.8345 - val_precision_1: 0.8478 - val_recall_1: 0.8196\n",
      "Epoch 3/15\n",
      "572/572 [==============================] - 42s 73ms/step - loss: 0.4327 - accuracy: 0.8455 - precision_1: 0.8565 - recall_1: 0.8344 - val_loss: 0.3350 - val_accuracy: 0.8923 - val_precision_1: 0.9002 - val_recall_1: 0.8844\n",
      "Epoch 4/15\n",
      "572/572 [==============================] - 42s 74ms/step - loss: 0.3304 - accuracy: 0.8799 - precision_1: 0.8902 - recall_1: 0.8689 - val_loss: 0.3072 - val_accuracy: 0.9037 - val_precision_1: 0.9072 - val_recall_1: 0.8993\n",
      "Epoch 5/15\n",
      "572/572 [==============================] - 42s 74ms/step - loss: 0.2447 - accuracy: 0.9105 - precision_1: 0.9180 - recall_1: 0.9037 - val_loss: 0.2938 - val_accuracy: 0.9019 - val_precision_1: 0.9064 - val_recall_1: 0.8984\n",
      "Epoch 6/15\n",
      "572/572 [==============================] - 42s 73ms/step - loss: 0.2317 - accuracy: 0.9206 - precision_1: 0.9249 - recall_1: 0.9164 - val_loss: 0.3176 - val_accuracy: 0.8984 - val_precision_1: 0.8997 - val_recall_1: 0.8958\n",
      "Epoch 7/15\n",
      "572/572 [==============================] - 42s 74ms/step - loss: 0.1781 - accuracy: 0.9376 - precision_1: 0.9406 - recall_1: 0.9350 - val_loss: 0.3512 - val_accuracy: 0.9011 - val_precision_1: 0.9038 - val_recall_1: 0.8967\n",
      "Epoch 8/15\n",
      "572/572 [==============================] - 42s 74ms/step - loss: 0.1524 - accuracy: 0.9422 - precision_1: 0.9448 - recall_1: 0.9396 - val_loss: 0.3532 - val_accuracy: 0.9028 - val_precision_1: 0.9041 - val_recall_1: 0.9002\n",
      "Epoch 9/15\n",
      "572/572 [==============================] - 42s 74ms/step - loss: 0.1379 - accuracy: 0.9510 - precision_1: 0.9538 - recall_1: 0.9490 - val_loss: 0.3503 - val_accuracy: 0.9002 - val_precision_1: 0.9025 - val_recall_1: 0.9002\n",
      "Epoch 10/15\n",
      "572/572 [==============================] - 92s 161ms/step - loss: 0.0808 - accuracy: 0.9729 - precision_1: 0.9739 - recall_1: 0.9720 - val_loss: 0.3436 - val_accuracy: 0.9124 - val_precision_1: 0.9147 - val_recall_1: 0.9107\n",
      "Epoch 11/15\n",
      "572/572 [==============================] - 185s 323ms/step - loss: 0.0934 - accuracy: 0.9705 - precision_1: 0.9706 - recall_1: 0.9681 - val_loss: 0.3635 - val_accuracy: 0.9168 - val_precision_1: 0.9189 - val_recall_1: 0.9133\n",
      "Epoch 12/15\n",
      "572/572 [==============================] - 186s 325ms/step - loss: 0.0683 - accuracy: 0.9772 - precision_1: 0.9779 - recall_1: 0.9757 - val_loss: 0.3104 - val_accuracy: 0.9291 - val_precision_1: 0.9299 - val_recall_1: 0.9291\n",
      "Epoch 13/15\n",
      "572/572 [==============================] - 186s 325ms/step - loss: 0.0693 - accuracy: 0.9796 - precision_1: 0.9798 - recall_1: 0.9783 - val_loss: 0.3094 - val_accuracy: 0.9238 - val_precision_1: 0.9245 - val_recall_1: 0.9221\n",
      "Epoch 14/15\n",
      "572/572 [==============================] - 186s 325ms/step - loss: 0.0698 - accuracy: 0.9764 - precision_1: 0.9768 - recall_1: 0.9764 - val_loss: 0.3373 - val_accuracy: 0.9203 - val_precision_1: 0.9219 - val_recall_1: 0.9203\n",
      "Epoch 15/15\n",
      "572/572 [==============================] - 186s 325ms/step - loss: 0.0468 - accuracy: 0.9840 - precision_1: 0.9842 - recall_1: 0.9840 - val_loss: 0.3177 - val_accuracy: 0.9483 - val_precision_1: 0.9500 - val_recall_1: 0.9475\n"
     ]
    }
   ],
   "source": [
    "history_cnn = model_cnn.fit(training_data, \n",
    "          epochs=15,\n",
    "          validation_data=validation_data\n",
    "         )"
   ]
  },
  {
   "cell_type": "code",
   "execution_count": 21,
   "metadata": {},
   "outputs": [
    {
     "data": {
      "image/png": "[encoded data removed]",
      "text/plain": [
       "<Figure size 360x360 with 1 Axes>"
      ]
     },
     "metadata": {
      "needs_background": "light"
     },
     "output_type": "display_data"
    },
    {
     "data": {
      "image/png": "[encoded data removed]",
      "text/plain": [
       "<Figure size 360x360 with 1 Axes>"
      ]
     },
     "metadata": {
      "needs_background": "light"
     },
     "output_type": "display_data"
    }
   ],
   "source": [
    "plt.figure(figsize=(5,5))\n",
    "# summarize history for accuracy\n",
    "hist_cnn=history_cnn.history\n",
    "plt.plot(hist_cnn[\"accuracy\"],color=\"b\",label=\"train_accuracy\")\n",
    "plt.plot(hist_cnn[\"val_accuracy\"],color=\"g\",label=\"val_accuracy\")\n",
    "plt.title('model accuracy')\n",
    "plt.ylabel('accuracy')\n",
    "plt.xlabel('epoch')\n",
    "plt.legend(loc=\"lower right\")\n",
    "plt.show()\n",
    "\n",
    "plt.figure(figsize=(5,5))\n",
    "# summarize history for loss\n",
    "plt.plot(hist_cnn['loss'],color=\"b\",label=\"train_loss\")\n",
    "plt.plot(hist_cnn['val_loss'],color=\"g\",label=\"val_loss\")\n",
    "plt.title('model loss')\n",
    "plt.ylabel('loss')\n",
    "plt.xlabel('epoch')\n",
    "plt.legend( loc='upper left')\n",
    "plt.show()"
   ]
  },
  {
   "cell_type": "code",
   "execution_count": 22,
   "metadata": {},
   "outputs": [],
   "source": [
    "model_cnn.save('cnn.h5')"
   ]
  },
  {
   "cell_type": "code",
   "execution_count": 23,
   "metadata": {},
   "outputs": [
    {
     "name": "stdout",
     "output_type": "stream",
     "text": [
      "164/164 [==============================] - 4s 20ms/step - loss: 0.3214 - accuracy: 0.9420 - precision_1: 0.9427 - recall_1: 0.9420\n"
     ]
    },
    {
     "data": {
      "text/plain": [
       "[0.3213565945625305,\n",
       " 0.9420289993286133,\n",
       " 0.9427480697631836,\n",
       " 0.9420289993286133]"
      ]
     },
     "execution_count": 23,
     "metadata": {},
     "output_type": "execute_result"
    }
   ],
   "source": [
    "model_cnn.evaluate(testing_data)"
   ]
  },
  {
   "cell_type": "code",
   "execution_count": 24,
   "metadata": {},
   "outputs": [
    {
     "data": {
      "text/plain": [
       "['loss', 'accuracy', 'precision_1', 'recall_1']"
      ]
     },
     "execution_count": 24,
     "metadata": {},
     "output_type": "execute_result"
    }
   ],
   "source": [
    "model_cnn.metrics_names\n"
   ]
  },
  {
   "cell_type": "code",
   "execution_count": 25,
   "metadata": {},
   "outputs": [
    {
     "name": "stdout",
     "output_type": "stream",
     "text": [
      "164/164 [==============================] - 3s 17ms/step\n"
     ]
    },
    {
     "data": {
      "text/plain": [
       "array([[4.8126015e-01, 5.1873964e-01, 3.3270386e-09, 2.7183077e-07],\n",
       "       [9.9997997e-01, 1.4452297e-05, 4.9593623e-06, 6.5205842e-07],\n",
       "       [1.1354782e-04, 9.9988341e-01, 1.3001386e-06, 1.6321595e-06],\n",
       "       ...,\n",
       "       [1.4068761e-06, 3.9672564e-06, 9.9998605e-01, 8.6101018e-06],\n",
       "       [3.9953875e-06, 9.9999559e-01, 3.1161529e-09, 3.6623251e-07],\n",
       "       [6.6825781e-11, 1.9440645e-09, 1.0000000e+00, 3.6479757e-11]],\n",
       "      dtype=float32)"
      ]
     },
     "execution_count": 25,
     "metadata": {},
     "output_type": "execute_result"
    }
   ],
   "source": [
    "model_cnn.predict(testing_data)"
   ]
  },
  {
   "cell_type": "markdown",
   "metadata": {},
   "source": [
    "### Alexnet"
   ]
  },
  {
   "cell_type": "code",
   "execution_count": 26,
   "metadata": {},
   "outputs": [
    {
     "name": "stdout",
     "output_type": "stream",
     "text": [
      "Model: \"sequential_2\"\n",
      "_________________________________________________________________\n",
      " Layer (type)                Output Shape              Param #   \n",
      "=================================================================\n",
      " conv2d_4 (Conv2D)           (None, 64, 64, 96)        2688      \n",
      "                                                                 \n",
      " max_pooling2d_4 (MaxPooling  (None, 32, 32, 96)       0         \n",
      " 2D)                                                             \n",
      "                                                                 \n",
      " conv2d_5 (Conv2D)           (None, 32, 32, 256)       614656    \n",
      "                                                                 \n",
      " max_pooling2d_5 (MaxPooling  (None, 16, 16, 256)      0         \n",
      " 2D)                                                             \n",
      "                                                                 \n",
      " conv2d_6 (Conv2D)           (None, 16, 16, 384)       885120    \n",
      "                                                                 \n",
      " conv2d_7 (Conv2D)           (None, 16, 16, 384)       1327488   \n",
      "                                                                 \n",
      " conv2d_8 (Conv2D)           (None, 16, 16, 256)       884992    \n",
      "                                                                 \n",
      " max_pooling2d_6 (MaxPooling  (None, 8, 8, 256)        0         \n",
      " 2D)                                                             \n",
      "                                                                 \n",
      " flatten_2 (Flatten)         (None, 16384)             0         \n",
      "                                                                 \n",
      " dense_5 (Dense)             (None, 4096)              67112960  \n",
      "                                                                 \n",
      " dropout_8 (Dropout)         (None, 4096)              0         \n",
      "                                                                 \n",
      " dense_6 (Dense)             (None, 4096)              16781312  \n",
      "                                                                 \n",
      " dropout_9 (Dropout)         (None, 4096)              0         \n",
      "                                                                 \n",
      " dense_7 (Dense)             (None, 4)                 16388     \n",
      "                                                                 \n",
      "=================================================================\n",
      "Total params: 87,625,604\n",
      "Trainable params: 87,625,604\n",
      "Non-trainable params: 0\n",
      "_________________________________________________________________\n"
     ]
    }
   ],
   "source": [
    "model_alex = Sequential()\n",
    "model_alex.add(Conv2D(filters=96,kernel_size=(3,3),strides=(4,4),input_shape=(256,256,3), activation='relu'))\n",
    "model_alex.add(MaxPooling2D(pool_size=(2,2),strides=(2,2)))\n",
    "model_alex.add(Conv2D(256,(5,5),padding='same',activation='relu'))\n",
    "model_alex.add(MaxPooling2D(pool_size=(2,2),strides=(2,2)))\n",
    "model_alex.add(Conv2D(384,(3,3),padding='same',activation='relu'))\n",
    "model_alex.add(Conv2D(384,(3,3),padding='same',activation='relu'))\n",
    "model_alex.add(Conv2D(256,(3,3),padding='same',activation='relu'))\n",
    "model_alex.add(MaxPooling2D(pool_size=(2,2),strides=(2,2)))\n",
    "\n",
    "model_alex.add(Flatten())\n",
    "model_alex.add(Dense(4096, activation='relu'))\n",
    "model_alex.add(Dropout(0.4))\n",
    "model_alex.add(Dense(4096, activation='relu'))\n",
    "model_alex.add(Dropout(0.4))\n",
    "model_alex.add(Dense(4,activation='softmax'))\n",
    "\n",
    "model_alex.summary()\n"
   ]
  },
  {
   "cell_type": "code",
   "execution_count": 27,
   "metadata": {},
   "outputs": [],
   "source": [
    "model_alex.compile(optimizer=Adam(learning_rate=0.0001),\n",
    "             loss='categorical_crossentropy',\n",
    "             metrics=['accuracy',tf.keras.metrics.Precision(),tf.keras.metrics.Recall()])"
   ]
  },
  {
   "cell_type": "code",
   "execution_count": 28,
   "metadata": {},
   "outputs": [
    {
     "name": "stdout",
     "output_type": "stream",
     "text": [
      "Epoch 1/15\n",
      "572/572 [==============================] - 42s 73ms/step - loss: 0.0593 - accuracy: 0.9823 - precision_1: 0.9831 - recall_1: 0.9818 - val_loss: 0.3169 - val_accuracy: 0.9440 - val_precision_1: 0.9439 - val_recall_1: 0.9431\n",
      "Epoch 2/15\n",
      "572/572 [==============================] - 43s 74ms/step - loss: 0.0506 - accuracy: 0.9851 - precision_1: 0.9860 - recall_1: 0.9851 - val_loss: 0.3041 - val_accuracy: 0.9361 - val_precision_1: 0.9377 - val_recall_1: 0.9352\n",
      "Epoch 3/15\n",
      "572/572 [==============================] - 43s 75ms/step - loss: 0.0339 - accuracy: 0.9884 - precision_1: 0.9886 - recall_1: 0.9884 - val_loss: 0.2764 - val_accuracy: 0.9448 - val_precision_1: 0.9448 - val_recall_1: 0.9448\n",
      "Epoch 4/15\n",
      "572/572 [==============================] - 43s 75ms/step - loss: 0.0624 - accuracy: 0.9845 - precision_1: 0.9851 - recall_1: 0.9842 - val_loss: 0.2730 - val_accuracy: 0.9483 - val_precision_1: 0.9492 - val_recall_1: 0.9483\n",
      "Epoch 5/15\n",
      "572/572 [==============================] - 107s 187ms/step - loss: 0.0261 - accuracy: 0.9902 - precision_1: 0.9906 - recall_1: 0.9902 - val_loss: 0.2426 - val_accuracy: 0.9545 - val_precision_1: 0.9544 - val_recall_1: 0.9536\n",
      "Epoch 6/15\n",
      "572/572 [==============================] - 179s 312ms/step - loss: 0.0514 - accuracy: 0.9858 - precision_1: 0.9860 - recall_1: 0.9853 - val_loss: 0.2380 - val_accuracy: 0.9483 - val_precision_1: 0.9482 - val_recall_1: 0.9466\n",
      "Epoch 7/15\n",
      "572/572 [==============================] - 179s 312ms/step - loss: 0.0373 - accuracy: 0.9888 - precision_1: 0.9891 - recall_1: 0.9888 - val_loss: 0.3424 - val_accuracy: 0.9387 - val_precision_1: 0.9387 - val_recall_1: 0.9387\n",
      "Epoch 8/15\n",
      "572/572 [==============================] - 179s 313ms/step - loss: 0.0214 - accuracy: 0.9932 - precision_1: 0.9932 - recall_1: 0.9930 - val_loss: 0.4030 - val_accuracy: 0.9221 - val_precision_1: 0.9236 - val_recall_1: 0.9203\n",
      "Epoch 9/15\n",
      "572/572 [==============================] - 179s 312ms/step - loss: 0.0538 - accuracy: 0.9845 - precision_1: 0.9845 - recall_1: 0.9845 - val_loss: 0.3588 - val_accuracy: 0.9483 - val_precision_1: 0.9483 - val_recall_1: 0.9483\n",
      "Epoch 10/15\n",
      "572/572 [==============================] - 179s 312ms/step - loss: 0.0308 - accuracy: 0.9893 - precision_1: 0.9895 - recall_1: 0.9893 - val_loss: 0.2569 - val_accuracy: 0.9553 - val_precision_1: 0.9553 - val_recall_1: 0.9553\n",
      "Epoch 11/15\n",
      "572/572 [==============================] - 179s 312ms/step - loss: 0.0124 - accuracy: 0.9945 - precision_1: 0.9945 - recall_1: 0.9943 - val_loss: 0.2662 - val_accuracy: 0.9571 - val_precision_1: 0.9571 - val_recall_1: 0.9571\n",
      "Epoch 12/15\n",
      "572/572 [==============================] - 179s 312ms/step - loss: 0.0202 - accuracy: 0.9937 - precision_1: 0.9937 - recall_1: 0.9934 - val_loss: 0.3785 - val_accuracy: 0.9317 - val_precision_1: 0.9325 - val_recall_1: 0.9317\n",
      "Epoch 13/15\n",
      "572/572 [==============================] - 179s 312ms/step - loss: 0.0237 - accuracy: 0.9937 - precision_1: 0.9937 - recall_1: 0.9937 - val_loss: 0.2747 - val_accuracy: 0.9536 - val_precision_1: 0.9536 - val_recall_1: 0.9536\n",
      "Epoch 14/15\n",
      "572/572 [==============================] - 179s 312ms/step - loss: 0.0353 - accuracy: 0.9932 - precision_1: 0.9932 - recall_1: 0.9932 - val_loss: 0.2530 - val_accuracy: 0.9615 - val_precision_1: 0.9615 - val_recall_1: 0.9615\n",
      "Epoch 15/15\n",
      "572/572 [==============================] - 179s 312ms/step - loss: 0.0114 - accuracy: 0.9958 - precision_1: 0.9958 - recall_1: 0.9958 - val_loss: 0.2687 - val_accuracy: 0.9650 - val_precision_1: 0.9650 - val_recall_1: 0.9650\n"
     ]
    }
   ],
   "source": [
    "history_alex = model_cnn.fit(training_data, \n",
    "          epochs=15,\n",
    "          validation_data=validation_data\n",
    "         )"
   ]
  },
  {
   "cell_type": "code",
   "execution_count": 29,
   "metadata": {},
   "outputs": [
    {
     "data": {
      "image/png": "[encoded data removed]",
      "text/plain": [
       "<Figure size 360x360 with 1 Axes>"
      ]
     },
     "metadata": {
      "needs_background": "light"
     },
     "output_type": "display_data"
    },
    {
     "data": {
      "image/png": "[encoded data removed]",
      "text/plain": [
       "<Figure size 360x360 with 1 Axes>"
      ]
     },
     "metadata": {
      "needs_background": "light"
     },
     "output_type": "display_data"
    }
   ],
   "source": [
    "plt.figure(figsize=(5,5))\n",
    "# summarize history for accuracy\n",
    "hist_cnn=history_alex.history\n",
    "plt.plot(hist_cnn[\"accuracy\"],color=\"b\",label=\"train_accuracy\")\n",
    "plt.plot(hist_cnn[\"val_accuracy\"],color=\"g\",label=\"val_accuracy\")\n",
    "plt.title('model accuracy')\n",
    "plt.ylabel('accuracy')\n",
    "plt.xlabel('epoch')\n",
    "plt.legend(loc=\"lower right\")\n",
    "plt.show()\n",
    "\n",
    "plt.figure(figsize=(5,5))\n",
    "# summarize history for loss\n",
    "plt.plot(hist_cnn['loss'],color=\"b\",label=\"train_loss\")\n",
    "plt.plot(hist_cnn['val_loss'],color=\"g\",label=\"val_loss\")\n",
    "plt.title('model loss')\n",
    "plt.ylabel('loss')\n",
    "plt.xlabel('epoch')\n",
    "plt.legend( loc='upper left')\n",
    "plt.show()"
   ]
  },
  {
   "cell_type": "code",
   "execution_count": 30,
   "metadata": {},
   "outputs": [],
   "source": [
    "model_alex.save('alex.h5')"
   ]
  },
  {
   "cell_type": "code",
   "execution_count": 31,
   "metadata": {},
   "outputs": [
    {
     "name": "stdout",
     "output_type": "stream",
     "text": [
      "164/164 [==============================] - 11s 62ms/step - loss: 2.3274 - accuracy: 0.1922 - precision_2: 0.1821 - recall_2: 0.1396\n"
     ]
    },
    {
     "data": {
      "text/plain": [
       "[2.327359676361084,\n",
       " 0.19221967458724976,\n",
       " 0.18208955228328705,\n",
       " 0.1395881026983261]"
      ]
     },
     "execution_count": 31,
     "metadata": {},
     "output_type": "execute_result"
    }
   ],
   "source": [
    "model_alex.evaluate(testing_data)"
   ]
  },
  {
   "cell_type": "code",
   "execution_count": 35,
   "metadata": {},
   "outputs": [
    {
     "name": "stdout",
     "output_type": "stream",
     "text": [
      "WARNING:tensorflow:`input_shape` is undefined or non-square, or `rows` is not in [128, 160, 192, 224]. Weights for input shape (224, 224) will be loaded as the default.\n",
      "Downloading data from https://storage.googleapis.com/tensorflow/keras-applications/mobilenet/mobilenet_1_0_224_tf_no_top.h5\n",
      "17225924/17225924 [==============================] - 39s 2us/step\n",
      "Model: \"sequential_3\"\n",
      "_________________________________________________________________\n",
      " Layer (type)                Output Shape              Param #   \n",
      "=================================================================\n",
      " resnet50 (Functional)       (None, 8, 8, 2048)        23587712  \n",
      "                                                                 \n",
      " flatten_3 (Flatten)         (None, 131072)            0         \n",
      "                                                                 \n",
      " dropout_10 (Dropout)        (None, 131072)            0         \n",
      "                                                                 \n",
      " dense_8 (Dense)             (None, 128)               16777344  \n",
      "                                                                 \n",
      " dropout_11 (Dropout)        (None, 128)               0         \n",
      "                                                                 \n",
      " dense_9 (Dense)             (None, 4)                 516       \n",
      "                                                                 \n",
      "=================================================================\n",
      "Total params: 40,365,572\n",
      "Trainable params: 40,312,452\n",
      "Non-trainable params: 53,120\n",
      "_________________________________________________________________\n"
     ]
    }
   ],
   "source": [
    "from tensorflow.keras.applications import MobileNet\n",
    "\n",
    "mobile = MobileNet(weights = 'imagenet',input_shape=(256,256,3),include_top = False)\n",
    "model_mobile = Sequential()\n",
    "model_mobile.add(Input(shape=(256,256,3)))\n",
    "model_mobile.add(resnet_model)\n",
    "model_mobile.add(Flatten())\n",
    "model_mobile.add(Dropout(0.25))\n",
    "model_mobile.add(Dense(128, activation='relu'))\n",
    "model_mobile.add(Dropout(0.2))\n",
    "model_mobile.add(Dense(4, activation='softmax')) # num labels = 4\n",
    "\n",
    "model_mobile.summary()"
   ]
  },
  {
   "cell_type": "code",
   "execution_count": 36,
   "metadata": {},
   "outputs": [],
   "source": [
    "model_mobile.compile(optimizer=Adam(learning_rate=0.0001),\n",
    "             loss='categorical_crossentropy',\n",
    "             metrics=['accuracy',tf.keras.metrics.Precision(),tf.keras.metrics.Recall()])"
   ]
  },
  {
   "cell_type": "code",
   "execution_count": 37,
   "metadata": {},
   "outputs": [
    {
     "name": "stdout",
     "output_type": "stream",
     "text": [
      "Epoch 1/15\n",
      "572/572 [==============================] - 179s 312ms/step - loss: 0.0262 - accuracy: 0.9939 - precision_1: 0.9939 - recall_1: 0.9939 - val_loss: 0.3582 - val_accuracy: 0.9527 - val_precision_1: 0.9535 - val_recall_1: 0.9527\n",
      "Epoch 2/15\n",
      "572/572 [==============================] - 179s 312ms/step - loss: 0.0294 - accuracy: 0.9926 - precision_1: 0.9926 - recall_1: 0.9926 - val_loss: 0.3481 - val_accuracy: 0.9553 - val_precision_1: 0.9553 - val_recall_1: 0.9545\n",
      "Epoch 3/15\n",
      "572/572 [==============================] - 179s 313ms/step - loss: 0.0199 - accuracy: 0.9943 - precision_1: 0.9943 - recall_1: 0.9941 - val_loss: 0.3219 - val_accuracy: 0.9518 - val_precision_1: 0.9518 - val_recall_1: 0.9518\n",
      "Epoch 4/15\n",
      "572/572 [==============================] - 179s 313ms/step - loss: 0.0034 - accuracy: 0.9987 - precision_1: 0.9989 - recall_1: 0.9987 - val_loss: 0.3827 - val_accuracy: 0.9553 - val_precision_1: 0.9553 - val_recall_1: 0.9553\n",
      "Epoch 5/15\n",
      "572/572 [==============================] - 179s 313ms/step - loss: 0.0329 - accuracy: 0.9932 - precision_1: 0.9932 - recall_1: 0.9930 - val_loss: 0.3275 - val_accuracy: 0.9466 - val_precision_1: 0.9466 - val_recall_1: 0.9466\n",
      "Epoch 6/15\n",
      "572/572 [==============================] - 179s 313ms/step - loss: 0.0141 - accuracy: 0.9952 - precision_1: 0.9952 - recall_1: 0.9952 - val_loss: 0.3328 - val_accuracy: 0.9623 - val_precision_1: 0.9623 - val_recall_1: 0.9623\n",
      "Epoch 7/15\n",
      "572/572 [==============================] - 180s 314ms/step - loss: 0.0147 - accuracy: 0.9950 - precision_1: 0.9950 - recall_1: 0.9950 - val_loss: 0.3514 - val_accuracy: 0.9597 - val_precision_1: 0.9597 - val_recall_1: 0.9597\n",
      "Epoch 8/15\n",
      "572/572 [==============================] - 179s 312ms/step - loss: 0.0237 - accuracy: 0.9943 - precision_1: 0.9943 - recall_1: 0.9941 - val_loss: 0.5066 - val_accuracy: 0.9422 - val_precision_1: 0.9422 - val_recall_1: 0.9422\n",
      "Epoch 9/15\n",
      "572/572 [==============================] - 178s 312ms/step - loss: 0.0412 - accuracy: 0.9891 - precision_1: 0.9891 - recall_1: 0.9891 - val_loss: 0.4226 - val_accuracy: 0.9518 - val_precision_1: 0.9518 - val_recall_1: 0.9518\n",
      "Epoch 10/15\n",
      "572/572 [==============================] - 178s 311ms/step - loss: 0.0239 - accuracy: 0.9950 - precision_1: 0.9950 - recall_1: 0.9950 - val_loss: 0.4902 - val_accuracy: 0.9466 - val_precision_1: 0.9466 - val_recall_1: 0.9466\n",
      "Epoch 11/15\n",
      "572/572 [==============================] - 178s 312ms/step - loss: 0.0151 - accuracy: 0.9969 - precision_1: 0.9969 - recall_1: 0.9969 - val_loss: 0.3802 - val_accuracy: 0.9492 - val_precision_1: 0.9500 - val_recall_1: 0.9492\n",
      "Epoch 12/15\n",
      "572/572 [==============================] - 89s 155ms/step - loss: 0.0101 - accuracy: 0.9963 - precision_1: 0.9965 - recall_1: 0.9963 - val_loss: 0.3605 - val_accuracy: 0.9501 - val_precision_1: 0.9501 - val_recall_1: 0.9501\n",
      "Epoch 13/15\n",
      "572/572 [==============================] - 35s 61ms/step - loss: 0.0137 - accuracy: 0.9972 - precision_1: 0.9972 - recall_1: 0.9972 - val_loss: 0.3904 - val_accuracy: 0.9588 - val_precision_1: 0.9588 - val_recall_1: 0.9588\n",
      "Epoch 14/15\n",
      "572/572 [==============================] - 35s 61ms/step - loss: 0.0180 - accuracy: 0.9947 - precision_1: 0.9952 - recall_1: 0.9947 - val_loss: 0.4037 - val_accuracy: 0.9597 - val_precision_1: 0.9605 - val_recall_1: 0.9588\n",
      "Epoch 15/15\n",
      "572/572 [==============================] - 35s 62ms/step - loss: 0.0221 - accuracy: 0.9943 - precision_1: 0.9943 - recall_1: 0.9941 - val_loss: 0.4681 - val_accuracy: 0.9571 - val_precision_1: 0.9571 - val_recall_1: 0.9571\n"
     ]
    }
   ],
   "source": [
    "history_mobile = model_cnn.fit(training_data, \n",
    "          epochs=15,\n",
    "          validation_data=validation_data\n",
    "         )"
   ]
  },
  {
   "cell_type": "code",
   "execution_count": 38,
   "metadata": {},
   "outputs": [
    {
     "data": {
      "image/png": "[encoded data removed]",
      "text/plain": [
       "<Figure size 360x360 with 1 Axes>"
      ]
     },
     "metadata": {
      "needs_background": "light"
     },
     "output_type": "display_data"
    },
    {
     "data": {
      "image/png": "[encoded data removed]",
      "text/plain": [
       "<Figure size 360x360 with 1 Axes>"
      ]
     },
     "metadata": {
      "needs_background": "light"
     },
     "output_type": "display_data"
    }
   ],
   "source": [
    "plt.figure(figsize=(5,5))\n",
    "# summarize history for accuracy\n",
    "hist_mobile=history_mobile.history\n",
    "plt.plot(hist_mobile[\"accuracy\"],color=\"b\",label=\"train_accuracy\")\n",
    "plt.plot(hist_mobile[\"val_accuracy\"],color=\"g\",label=\"val_accuracy\")\n",
    "plt.title('model accuracy')\n",
    "plt.ylabel('accuracy')\n",
    "plt.xlabel('epoch')\n",
    "plt.legend(loc=\"lower right\")\n",
    "plt.show()\n",
    "\n",
    "plt.figure(figsize=(5,5))\n",
    "# summarize history for loss\n",
    "plt.plot(hist_cnn['loss'],color=\"b\",label=\"train_loss\")\n",
    "plt.plot(hist_cnn['val_loss'],color=\"g\",label=\"val_loss\")\n",
    "plt.title('model loss')\n",
    "plt.ylabel('loss')\n",
    "plt.xlabel('epoch')\n",
    "plt.legend( loc='upper left')\n",
    "plt.show()"
   ]
  },
  {
   "cell_type": "code",
   "execution_count": 49,
   "metadata": {},
   "outputs": [],
   "source": [
    "model_mobile.save('mobilenet.h5')"
   ]
  },
  {
   "cell_type": "code",
   "execution_count": 40,
   "metadata": {},
   "outputs": [
    {
     "name": "stdout",
     "output_type": "stream",
     "text": [
      "164/164 [==============================] - 10s 47ms/step - loss: 1.8841 - accuracy: 0.3524 - precision_3: 0.4115 - recall_3: 0.2624\n"
     ]
    },
    {
     "data": {
      "text/plain": [
       "[1.8840610980987549,\n",
       " 0.3524027466773987,\n",
       " 0.4114832580089569,\n",
       " 0.26239511370658875]"
      ]
     },
     "execution_count": 40,
     "metadata": {},
     "output_type": "execute_result"
    }
   ],
   "source": [
    "model_mobile.evaluate(testing_data)"
   ]
  },
  {
   "cell_type": "code",
   "execution_count": 41,
   "metadata": {},
   "outputs": [
    {
     "name": "stdout",
     "output_type": "stream",
     "text": [
      "Model: \"sequential_4\"\n",
      "_________________________________________________________________\n",
      " Layer (type)                Output Shape              Param #   \n",
      "=================================================================\n",
      " vgg16 (Functional)          (None, 8, 8, 512)         14714688  \n",
      "                                                                 \n",
      " flatten_4 (Flatten)         (None, 32768)             0         \n",
      "                                                                 \n",
      " dropout_12 (Dropout)        (None, 32768)             0         \n",
      "                                                                 \n",
      " dense_10 (Dense)            (None, 128)               4194432   \n",
      "                                                                 \n",
      " dropout_13 (Dropout)        (None, 128)               0         \n",
      "                                                                 \n",
      " dense_11 (Dense)            (None, 4)                 516       \n",
      "                                                                 \n",
      "=================================================================\n",
      "Total params: 18,909,636\n",
      "Trainable params: 4,194,948\n",
      "Non-trainable params: 14,714,688\n",
      "_________________________________________________________________\n"
     ]
    }
   ],
   "source": [
    "\n",
    "vgg16 = tf.keras.applications.VGG16(weights = \"imagenet\",input_shape = (256,256,3),include_top = False)\n",
    "for layer in vgg16.layers:\n",
    "    layer.trainable = False\n",
    "\n",
    "model_vgg16 = Sequential()\n",
    "model_vgg16.add(Input(shape=(256,256,3)))\n",
    "model_vgg16.add(vgg16)\n",
    "model_vgg16.add(Flatten())\n",
    "model_vgg16.add(Dropout(0.25))\n",
    "model_vgg16.add(Dense(128, activation='relu'))\n",
    "model_vgg16.add(Dropout(0.2))\n",
    "model_vgg16.add(Dense(4, activation='softmax')) \n",
    "\n",
    "model_vgg16.summary()"
   ]
  },
  {
   "cell_type": "code",
   "execution_count": 42,
   "metadata": {},
   "outputs": [],
   "source": [
    "model_vgg16.compile(optimizer=Adam(learning_rate=0.0001),\n",
    "             loss='categorical_crossentropy',\n",
    "             metrics=['accuracy',tf.keras.metrics.Precision(),tf.keras.metrics.Recall()])"
   ]
  },
  {
   "cell_type": "code",
   "execution_count": 44,
   "metadata": {},
   "outputs": [
    {
     "name": "stdout",
     "output_type": "stream",
     "text": [
      "Epoch 1/15\n",
      "572/572 [==============================] - 62s 105ms/step - loss: 1.1831 - accuracy: 0.8042 - precision_4: 0.8094 - recall_4: 0.7982 - val_loss: 0.2580 - val_accuracy: 0.9159 - val_precision_4: 0.9218 - val_recall_4: 0.9089\n",
      "Epoch 2/15\n",
      "572/572 [==============================] - 58s 102ms/step - loss: 0.2763 - accuracy: 0.9077 - precision_4: 0.9141 - recall_4: 0.9037 - val_loss: 0.2538 - val_accuracy: 0.9247 - val_precision_4: 0.9271 - val_recall_4: 0.9238\n",
      "Epoch 3/15\n",
      "572/572 [==============================] - 59s 103ms/step - loss: 0.1928 - accuracy: 0.9368 - precision_4: 0.9418 - recall_4: 0.9341 - val_loss: 0.1848 - val_accuracy: 0.9405 - val_precision_4: 0.9444 - val_recall_4: 0.9378\n",
      "Epoch 4/15\n",
      "572/572 [==============================] - 59s 103ms/step - loss: 0.1243 - accuracy: 0.9565 - precision_4: 0.9570 - recall_4: 0.9551 - val_loss: 0.1596 - val_accuracy: 0.9588 - val_precision_4: 0.9605 - val_recall_4: 0.9588\n",
      "Epoch 5/15\n",
      "572/572 [==============================] - 59s 103ms/step - loss: 0.1087 - accuracy: 0.9659 - precision_4: 0.9675 - recall_4: 0.9650 - val_loss: 0.2178 - val_accuracy: 0.9431 - val_precision_4: 0.9431 - val_recall_4: 0.9431\n",
      "Epoch 6/15\n",
      "572/572 [==============================] - 59s 103ms/step - loss: 0.1056 - accuracy: 0.9637 - precision_4: 0.9647 - recall_4: 0.9628 - val_loss: 0.1835 - val_accuracy: 0.9588 - val_precision_4: 0.9596 - val_recall_4: 0.9571\n",
      "Epoch 7/15\n",
      "572/572 [==============================] - 59s 103ms/step - loss: 0.0750 - accuracy: 0.9733 - precision_4: 0.9735 - recall_4: 0.9731 - val_loss: 0.1561 - val_accuracy: 0.9623 - val_precision_4: 0.9632 - val_recall_4: 0.9623\n",
      "Epoch 8/15\n",
      "572/572 [==============================] - 59s 104ms/step - loss: 0.0785 - accuracy: 0.9761 - precision_4: 0.9770 - recall_4: 0.9755 - val_loss: 0.1483 - val_accuracy: 0.9580 - val_precision_4: 0.9588 - val_recall_4: 0.9571\n",
      "Epoch 9/15\n",
      "572/572 [==============================] - 60s 104ms/step - loss: 0.0616 - accuracy: 0.9807 - precision_4: 0.9812 - recall_4: 0.9805 - val_loss: 0.2245 - val_accuracy: 0.9475 - val_precision_4: 0.9474 - val_recall_4: 0.9466\n",
      "Epoch 10/15\n",
      "572/572 [==============================] - 60s 105ms/step - loss: 0.0474 - accuracy: 0.9858 - precision_4: 0.9860 - recall_4: 0.9858 - val_loss: 0.2552 - val_accuracy: 0.9440 - val_precision_4: 0.9439 - val_recall_4: 0.9431\n",
      "Epoch 11/15\n",
      "572/572 [==============================] - 60s 105ms/step - loss: 0.0690 - accuracy: 0.9805 - precision_4: 0.9810 - recall_4: 0.9803 - val_loss: 0.1961 - val_accuracy: 0.9545 - val_precision_4: 0.9545 - val_recall_4: 0.9545\n",
      "Epoch 12/15\n",
      "572/572 [==============================] - 61s 106ms/step - loss: 0.0438 - accuracy: 0.9864 - precision_4: 0.9866 - recall_4: 0.9862 - val_loss: 0.1740 - val_accuracy: 0.9650 - val_precision_4: 0.9649 - val_recall_4: 0.9641\n",
      "Epoch 13/15\n",
      "572/572 [==============================] - 61s 107ms/step - loss: 0.0544 - accuracy: 0.9856 - precision_4: 0.9858 - recall_4: 0.9856 - val_loss: 0.2228 - val_accuracy: 0.9562 - val_precision_4: 0.9562 - val_recall_4: 0.9562\n",
      "Epoch 14/15\n",
      "572/572 [==============================] - 61s 107ms/step - loss: 0.0487 - accuracy: 0.9860 - precision_4: 0.9862 - recall_4: 0.9860 - val_loss: 0.3050 - val_accuracy: 0.9545 - val_precision_4: 0.9553 - val_recall_4: 0.9545\n",
      "Epoch 15/15\n",
      "572/572 [==============================] - 60s 105ms/step - loss: 0.0552 - accuracy: 0.9849 - precision_4: 0.9849 - recall_4: 0.9849 - val_loss: 0.1926 - val_accuracy: 0.9545 - val_precision_4: 0.9553 - val_recall_4: 0.9536\n"
     ]
    }
   ],
   "source": [
    "history_vgg16 = model_vgg16.fit(training_data, \n",
    "          epochs=15,\n",
    "          validation_data=validation_data  \n",
    "         )"
   ]
  },
  {
   "cell_type": "code",
   "execution_count": 45,
   "metadata": {},
   "outputs": [
    {
     "data": {
      "image/png": "[encoded data removed]",
      "text/plain": [
       "<Figure size 360x360 with 1 Axes>"
      ]
     },
     "metadata": {
      "needs_background": "light"
     },
     "output_type": "display_data"
    },
    {
     "data": {
      "image/png": "[encoded data removed]",
      "text/plain": [
       "<Figure size 360x360 with 1 Axes>"
      ]
     },
     "metadata": {
      "needs_background": "light"
     },
     "output_type": "display_data"
    }
   ],
   "source": [
    "plt.figure(figsize=(5,5))\n",
    "# summarize history for accuracy\n",
    "hist_vgg16=history_vgg16.history\n",
    "plt.plot(hist_vgg16[\"accuracy\"],color=\"b\",label=\"train_accuracy\")\n",
    "plt.plot(hist_vgg16[\"val_accuracy\"],color=\"g\",label=\"val_accuracy\")\n",
    "plt.title('model accuracy')\n",
    "plt.ylabel('accuracy')\n",
    "plt.xlabel('epoch')\n",
    "plt.legend(loc=\"lower right\")\n",
    "plt.show()\n",
    "\n",
    "plt.figure(figsize=(5,5))\n",
    "# summarize history for loss\n",
    "plt.plot(hist_vgg16['loss'],color=\"b\",label=\"train_loss\")\n",
    "plt.plot(hist_vgg16['val_loss'],color=\"g\",label=\"val_loss\")\n",
    "plt.title('model loss')\n",
    "plt.ylabel('loss')\n",
    "plt.xlabel('epoch')\n",
    "plt.legend( loc='upper left')\n",
    "plt.show()"
   ]
  },
  {
   "cell_type": "code",
   "execution_count": 48,
   "metadata": {},
   "outputs": [],
   "source": [
    "model_vgg16.save('vgg_16.h5')"
   ]
  },
  {
   "cell_type": "code",
   "execution_count": 47,
   "metadata": {},
   "outputs": [
    {
     "name": "stdout",
     "output_type": "stream",
     "text": [
      "164/164 [==============================] - 14s 84ms/step - loss: 0.1534 - accuracy: 0.9649 - precision_4: 0.9649 - recall_4: 0.9649\n"
     ]
    },
    {
     "data": {
      "text/plain": [
       "[0.15339012444019318,\n",
       " 0.9649122953414917,\n",
       " 0.9649122953414917,\n",
       " 0.9649122953414917]"
      ]
     },
     "execution_count": 47,
     "metadata": {},
     "output_type": "execute_result"
    }
   ],
   "source": [
    "model_vgg16.evaluate(testing_data)"
   ]
  },
  {
   "cell_type": "markdown",
   "metadata": {},
   "source": [
    "### overall results on test data"
   ]
  },
  {
   "cell_type": "code",
   "execution_count": 57,
   "metadata": {},
   "outputs": [],
   "source": [
    "overall_results = {\"Accuracy\":[0.942,0.192,0.352,0.869,0.964],\n",
    "                    \"Precision\":[0.942,0.182,0.411,0.872,0.964],\n",
    "                    \"Recacll\":[0.942,0.139,0.262,0.864,0.964]}\n",
    "final_test_results = pd.DataFrame(overall_results,index= pd.Index([\"CNN\",\"Alexnet\",\"mobilenet\",\"ResNet\",\"VGG16\",]))"
   ]
  },
  {
   "cell_type": "code",
   "execution_count": 58,
   "metadata": {},
   "outputs": [
    {
     "data": {
      "text/html": [
       "<div>\n",
       "<style scoped>\n",
       "    .dataframe tbody tr th:only-of-type {\n",
       "        vertical-align: middle;\n",
       "    }\n",
       "\n",
       "    .dataframe tbody tr th {\n",
       "        vertical-align: top;\n",
       "    }\n",
       "\n",
       "    .dataframe thead th {\n",
       "        text-align: right;\n",
       "    }\n",
       "</style>\n",
       "<table border=\"1\" class=\"dataframe\">\n",
       "  <thead>\n",
       "    <tr style=\"text-align: right;\">\n",
       "      <th></th>\n",
       "      <th>Accuracy</th>\n",
       "      <th>Precision</th>\n",
       "      <th>Recacll</th>\n",
       "    </tr>\n",
       "  </thead>\n",
       "  <tbody>\n",
       "    <tr>\n",
       "      <th>CNN</th>\n",
       "      <td>0.942</td>\n",
       "      <td>0.942</td>\n",
       "      <td>0.942</td>\n",
       "    </tr>\n",
       "    <tr>\n",
       "      <th>Alexnet</th>\n",
       "      <td>0.192</td>\n",
       "      <td>0.182</td>\n",
       "      <td>0.139</td>\n",
       "    </tr>\n",
       "    <tr>\n",
       "      <th>mobilenet</th>\n",
       "      <td>0.352</td>\n",
       "      <td>0.411</td>\n",
       "      <td>0.262</td>\n",
       "    </tr>\n",
       "    <tr>\n",
       "      <th>ResNet</th>\n",
       "      <td>0.869</td>\n",
       "      <td>0.872</td>\n",
       "      <td>0.864</td>\n",
       "    </tr>\n",
       "    <tr>\n",
       "      <th>VGG16</th>\n",
       "      <td>0.964</td>\n",
       "      <td>0.964</td>\n",
       "      <td>0.964</td>\n",
       "    </tr>\n",
       "  </tbody>\n",
       "</table>\n",
       "</div>"
      ],
      "text/plain": [
       "           Accuracy  Precision  Recacll\n",
       "CNN           0.942      0.942    0.942\n",
       "Alexnet       0.192      0.182    0.139\n",
       "mobilenet     0.352      0.411    0.262\n",
       "ResNet        0.869      0.872    0.864\n",
       "VGG16         0.964      0.964    0.964"
      ]
     },
     "execution_count": 58,
     "metadata": {},
     "output_type": "execute_result"
    }
   ],
   "source": [
    "final_test_results"
   ]
  }
 ],
 "metadata": {
  "kernelspec": {
   "display_name": "Python 3.9.12 ('Gputensorflow')",
   "language": "python",
   "name": "python3"
  },
  "language_info": {
   "codemirror_mode": {
    "name": "ipython",
    "version": 3
   },
   "file_extension": ".py",
   "mimetype": "text/x-python",
   "name": "python",
   "nbconvert_exporter": "python",
   "pygments_lexer": "ipython3",
   "version": "3.9.12"
  },
  "orig_nbformat": 4,
  "vscode": {
   "interpreter": {
    "hash": "355859d913e799f4f71358222526554ee01ce1b10a1dc575dad4fbf1006839d6"
   }
  }
 },
 "nbformat": 4,
 "nbformat_minor": 2
}
