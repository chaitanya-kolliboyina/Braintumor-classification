{
 "cells": [
  {
   "cell_type": "code",
   "execution_count": 1,
   "metadata": {},
   "outputs": [],
   "source": [
    "import numpy as np\n",
    "import pandas as pd\n",
    "import matplotlib.pyplot as plt\n",
    "import seaborn as sb\n",
    "import os\n",
    "import time \n",
    "import random\n",
    "import tensorflow as tf\n",
    "from tensorflow.keras.preprocessing.image import load_img\n",
    "from tensorflow.keras.layers import *\n",
    "from tensorflow.keras.applications.resnet50 import ResNet50\n",
    "from tensorflow.keras.applications.resnet50 import preprocess_input\n",
    "from tensorflow.keras.models import *\n",
    "from tensorflow.keras.losses import *\n",
    "from tensorflow.keras.optimizers import *\n",
    "from tensorflow.keras.preprocessing.image import img_to_array\n",
    "from tensorflow.keras.preprocessing.image import ImageDataGenerator, load_img\n",
    "from tensorflow.keras.utils import to_categorical,image_dataset_from_directory\n",
    "\n",
    "from sklearn.preprocessing import LabelEncoder\n",
    "from sklearn.metrics import multilabel_confusion_matrix,roc_auc_score,confusion_matrix\n",
    "from sklearn.metrics import accuracy_score,classification_report,precision_score,recall_score\n",
    "\n",
    "import warnings\n",
    "warnings.filterwarnings(\"ignore\")\n"
   ]
  },
  {
   "cell_type": "code",
   "execution_count": 2,
   "metadata": {},
   "outputs": [],
   "source": [
    "training_path = r'C:\\Users\\Chaitanya\\Documents\\ML\\project\\Brain-tumor-MRI\\Training'\n",
    "testing_path = r'C:\\Users\\Chaitanya\\Documents\\ML\\project\\Brain-tumor-MRI\\Testing'"
   ]
  },
  {
   "cell_type": "code",
   "execution_count": 3,
   "metadata": {},
   "outputs": [
    {
     "name": "stdout",
     "output_type": "stream",
     "text": [
      "Found 5712 files belonging to 4 classes.\n",
      "Using 4570 files for training.\n"
     ]
    }
   ],
   "source": [
    "training_data = tf.keras.utils.image_dataset_from_directory(\n",
    "    training_path,\n",
    "    validation_split = 0.2,\n",
    "    seed = 48,\n",
    "    subset='training',\n",
    "    batch_size = 32,\n",
    "    image_size=(256, 256),\n",
    "    shuffle=True,\n",
    "    label_mode='categorical',\n",
    ")"
   ]
  },
  {
   "cell_type": "code",
   "execution_count": 4,
   "metadata": {},
   "outputs": [
    {
     "name": "stdout",
     "output_type": "stream",
     "text": [
      "Found 5712 files belonging to 4 classes.\n",
      "Using 1142 files for validation.\n"
     ]
    }
   ],
   "source": [
    "validation_data = tf.keras.utils.image_dataset_from_directory(\n",
    "    training_path,\n",
    "    validation_split = 0.2,\n",
    "    seed = 48,\n",
    "    batch_size = 32,\n",
    "    image_size=(256, 256),\n",
    "    shuffle=True,\n",
    "    subset='validation',\n",
    "    label_mode='categorical',\n",
    ")"
   ]
  },
  {
   "cell_type": "code",
   "execution_count": 5,
   "metadata": {},
   "outputs": [
    {
     "name": "stdout",
     "output_type": "stream",
     "text": [
      "Found 1311 files belonging to 4 classes.\n"
     ]
    }
   ],
   "source": [
    "testing_data = tf.keras.utils.image_dataset_from_directory(\n",
    "    testing_path,\n",
    "    seed = 48,\n",
    "    batch_size = 32,\n",
    "    image_size = (256, 256),\n",
    "    shuffle = True,\n",
    "    label_mode = \"categorical\",\n",
    ")"
   ]
  },
  {
   "cell_type": "code",
   "execution_count": 6,
   "metadata": {},
   "outputs": [
    {
     "data": {
      "text/plain": [
       "['glioma', 'meningioma', 'notumor', 'pituitary']"
      ]
     },
     "execution_count": 6,
     "metadata": {},
     "output_type": "execute_result"
    }
   ],
   "source": [
    "testing_data.class_names"
   ]
  },
  {
   "cell_type": "markdown",
   "metadata": {},
   "source": [
    "### ResNet50"
   ]
  },
  {
   "cell_type": "code",
   "execution_count": 7,
   "metadata": {},
   "outputs": [],
   "source": [
    "resnet_model = ResNet50(weights='imagenet', input_shape=(256,256,3), include_top=False)\n",
    "# Set all layers to non-trainable\n",
    "for layer in resnet_model.layers[:171]:\n",
    "    layer.trainable = False\n",
    "\n",
    "for layer in resnet_model.layers[171:]:\n",
    "    layer.trainable = True"
   ]
  },
  {
   "cell_type": "code",
   "execution_count": 8,
   "metadata": {},
   "outputs": [
    {
     "name": "stdout",
     "output_type": "stream",
     "text": [
      "Model: \"sequential\"\n",
      "_________________________________________________________________\n",
      " Layer (type)                Output Shape              Param #   \n",
      "=================================================================\n",
      " resnet50 (Functional)       (None, 8, 8, 2048)        23587712  \n",
      "                                                                 \n",
      " flatten (Flatten)           (None, 131072)            0         \n",
      "                                                                 \n",
      " dropout (Dropout)           (None, 131072)            0         \n",
      "                                                                 \n",
      " dense (Dense)               (None, 128)               16777344  \n",
      "                                                                 \n",
      " dropout_1 (Dropout)         (None, 128)               0         \n",
      "                                                                 \n",
      " dense_1 (Dense)             (None, 4)                 516       \n",
      "                                                                 \n",
      "=================================================================\n",
      "Total params: 40,365,572\n",
      "Trainable params: 17,832,580\n",
      "Non-trainable params: 22,532,992\n",
      "_________________________________________________________________\n"
     ]
    }
   ],
   "source": [
    "model = Sequential()\n",
    "model.add(Input(shape=(256,256,3)))\n",
    "model.add(resnet_model)\n",
    "model.add(Flatten())\n",
    "model.add(Dropout(0.25))\n",
    "model.add(Dense(128, activation='relu'))\n",
    "model.add(Dropout(0.2))\n",
    "model.add(Dense(4, activation='softmax')) # num labels = 4\n",
    "\n",
    "model.summary()"
   ]
  },
  {
   "cell_type": "code",
   "execution_count": 9,
   "metadata": {},
   "outputs": [],
   "source": [
    "model.compile(optimizer=Adam(learning_rate=0.0001),\n",
    "             loss='categorical_crossentropy',\n",
    "             metrics=['accuracy',tf.keras.metrics.Precision(),tf.keras.metrics.Recall()])"
   ]
  },
  {
   "cell_type": "code",
   "execution_count": 32,
   "metadata": {},
   "outputs": [
    {
     "name": "stdout",
     "output_type": "stream",
     "text": [
      "Epoch 1/15\n",
      "143/143 [==============================] - 31s 196ms/step - loss: 0.5918 - accuracy: 0.8514 - precision_1: 0.8595 - recall_1: 0.8475 - val_loss: 0.1785 - val_accuracy: 0.9396 - val_precision_1: 0.9436 - val_recall_1: 0.9370\n",
      "Epoch 2/15\n",
      "143/143 [==============================] - 27s 187ms/step - loss: 0.1234 - accuracy: 0.9551 - precision_1: 0.9580 - recall_1: 0.9532 - val_loss: 0.1156 - val_accuracy: 0.9571 - val_precision_1: 0.9587 - val_recall_1: 0.9562\n",
      "Epoch 3/15\n",
      "143/143 [==============================] - 27s 187ms/step - loss: 0.0640 - accuracy: 0.9757 - precision_1: 0.9759 - recall_1: 0.9744 - val_loss: 0.1169 - val_accuracy: 0.9571 - val_precision_1: 0.9570 - val_recall_1: 0.9545\n",
      "Epoch 4/15\n",
      "143/143 [==============================] - 27s 188ms/step - loss: 0.0445 - accuracy: 0.9840 - precision_1: 0.9849 - recall_1: 0.9836 - val_loss: 0.1123 - val_accuracy: 0.9553 - val_precision_1: 0.9562 - val_recall_1: 0.9553\n",
      "Epoch 5/15\n",
      "143/143 [==============================] - 27s 191ms/step - loss: 0.0228 - accuracy: 0.9923 - precision_1: 0.9926 - recall_1: 0.9921 - val_loss: 0.1879 - val_accuracy: 0.9361 - val_precision_1: 0.9368 - val_recall_1: 0.9343\n",
      "Epoch 6/15\n",
      "143/143 [==============================] - 27s 191ms/step - loss: 0.0267 - accuracy: 0.9919 - precision_1: 0.9919 - recall_1: 0.9915 - val_loss: 0.1109 - val_accuracy: 0.9632 - val_precision_1: 0.9649 - val_recall_1: 0.9623\n",
      "Epoch 7/15\n",
      "143/143 [==============================] - 27s 189ms/step - loss: 0.0145 - accuracy: 0.9939 - precision_1: 0.9939 - recall_1: 0.9939 - val_loss: 0.2132 - val_accuracy: 0.9308 - val_precision_1: 0.9308 - val_recall_1: 0.9308\n",
      "Epoch 8/15\n",
      "143/143 [==============================] - 27s 192ms/step - loss: 0.0170 - accuracy: 0.9939 - precision_1: 0.9941 - recall_1: 0.9937 - val_loss: 0.1344 - val_accuracy: 0.9632 - val_precision_1: 0.9649 - val_recall_1: 0.9623\n",
      "Epoch 9/15\n",
      "143/143 [==============================] - 27s 190ms/step - loss: 0.0124 - accuracy: 0.9956 - precision_1: 0.9956 - recall_1: 0.9956 - val_loss: 0.1242 - val_accuracy: 0.9615 - val_precision_1: 0.9615 - val_recall_1: 0.9615\n",
      "Epoch 10/15\n",
      "143/143 [==============================] - 27s 190ms/step - loss: 0.0189 - accuracy: 0.9947 - precision_1: 0.9950 - recall_1: 0.9947 - val_loss: 0.1181 - val_accuracy: 0.9623 - val_precision_1: 0.9623 - val_recall_1: 0.9615\n",
      "Epoch 11/15\n",
      "143/143 [==============================] - 27s 190ms/step - loss: 0.0159 - accuracy: 0.9947 - precision_1: 0.9947 - recall_1: 0.9947 - val_loss: 0.1178 - val_accuracy: 0.9720 - val_precision_1: 0.9720 - val_recall_1: 0.9720\n",
      "Epoch 12/15\n",
      "143/143 [==============================] - 27s 190ms/step - loss: 0.0118 - accuracy: 0.9965 - precision_1: 0.9965 - recall_1: 0.9961 - val_loss: 0.1171 - val_accuracy: 0.9658 - val_precision_1: 0.9658 - val_recall_1: 0.9650\n",
      "Epoch 13/15\n",
      "143/143 [==============================] - 27s 190ms/step - loss: 0.0238 - accuracy: 0.9917 - precision_1: 0.9919 - recall_1: 0.9915 - val_loss: 0.1315 - val_accuracy: 0.9650 - val_precision_1: 0.9658 - val_recall_1: 0.9650\n",
      "Epoch 14/15\n",
      "143/143 [==============================] - 27s 191ms/step - loss: 0.0129 - accuracy: 0.9967 - precision_1: 0.9967 - recall_1: 0.9967 - val_loss: 0.1332 - val_accuracy: 0.9711 - val_precision_1: 0.9711 - val_recall_1: 0.9702\n",
      "Epoch 15/15\n",
      "143/143 [==============================] - 27s 190ms/step - loss: 0.0160 - accuracy: 0.9958 - precision_1: 0.9958 - recall_1: 0.9958 - val_loss: 0.1753 - val_accuracy: 0.9667 - val_precision_1: 0.9667 - val_recall_1: 0.9667\n"
     ]
    }
   ],
   "source": [
    "history=model.fit(training_data, \n",
    "          epochs=15,\n",
    "          validation_data=validation_data\n",
    "         )"
   ]
  },
  {
   "cell_type": "code",
   "execution_count": 33,
   "metadata": {},
   "outputs": [
    {
     "data": {
      "image/png": "[encoded data removed]",
      "text/plain": [
       "<Figure size 360x360 with 1 Axes>"
      ]
     },
     "metadata": {
      "needs_background": "light"
     },
     "output_type": "display_data"
    },
    {
     "data": {
      "image/png": "[encoded data removed]",
      "text/plain": [
       "<Figure size 360x360 with 1 Axes>"
      ]
     },
     "metadata": {
      "needs_background": "light"
     },
     "output_type": "display_data"
    }
   ],
   "source": [
    "plt.figure(figsize=(5,5))\n",
    "# summarize history for accuracy\n",
    "hist=history.history\n",
    "plt.plot(hist[\"accuracy\"],color=\"b\",label=\"train_accuracy\")\n",
    "plt.plot(hist[\"val_accuracy\"],color=\"g\",label=\"val_accuracy\")\n",
    "plt.title('model accuracy')\n",
    "plt.ylabel('accuracy')\n",
    "plt.xlabel('epoch')\n",
    "plt.legend(loc=\"lower right\")\n",
    "plt.show()\n",
    "\n",
    "plt.figure(figsize=(5,5))\n",
    "# summarize history for loss\n",
    "plt.plot(hist['loss'],color=\"b\",label=\"train_loss\")\n",
    "plt.plot(hist['val_loss'],color=\"g\",label=\"val_loss\")\n",
    "plt.title('model loss')\n",
    "plt.ylabel('loss')\n",
    "plt.xlabel('epoch')\n",
    "plt.legend( loc='upper left')\n",
    "plt.show()"
   ]
  },
  {
   "cell_type": "code",
   "execution_count": 34,
   "metadata": {},
   "outputs": [
    {
     "name": "stdout",
     "output_type": "stream",
     "text": [
      "143/143 [==============================] - 21s 143ms/step - loss: 0.0044 - accuracy: 0.9989 - precision_1: 0.9989 - recall_1: 0.9989\n"
     ]
    },
    {
     "data": {
      "text/plain": [
       "[0.004363157320767641,\n",
       " 0.9989058971405029,\n",
       " 0.9989058971405029,\n",
       " 0.9989058971405029]"
      ]
     },
     "execution_count": 34,
     "metadata": {},
     "output_type": "execute_result"
    }
   ],
   "source": [
    "model.evaluate(training_data)"
   ]
  },
  {
   "cell_type": "code",
   "execution_count": 35,
   "metadata": {},
   "outputs": [
    {
     "name": "stdout",
     "output_type": "stream",
     "text": [
      "36/36 [==============================] - 5s 140ms/step - loss: 0.1753 - accuracy: 0.9667 - precision_1: 0.9667 - recall_1: 0.9667\n"
     ]
    },
    {
     "data": {
      "text/plain": [
       "[0.17534320056438446,\n",
       " 0.9667250514030457,\n",
       " 0.9667250514030457,\n",
       " 0.9667250514030457]"
      ]
     },
     "execution_count": 35,
     "metadata": {},
     "output_type": "execute_result"
    }
   ],
   "source": [
    "model.evaluate(validation_data)"
   ]
  },
  {
   "cell_type": "code",
   "execution_count": 36,
   "metadata": {},
   "outputs": [
    {
     "name": "stdout",
     "output_type": "stream",
     "text": [
      "41/41 [==============================] - 6s 144ms/step - loss: 0.2164 - accuracy: 0.9603 - precision_1: 0.9603 - recall_1: 0.9603\n"
     ]
    },
    {
     "data": {
      "text/plain": [
       "[0.21636457741260529,\n",
       " 0.9603356122970581,\n",
       " 0.9603356122970581,\n",
       " 0.9603356122970581]"
      ]
     },
     "execution_count": 36,
     "metadata": {},
     "output_type": "execute_result"
    }
   ],
   "source": [
    "model.evaluate(testing_data)"
   ]
  },
  {
   "cell_type": "code",
   "execution_count": 23,
   "metadata": {},
   "outputs": [],
   "source": [
    "ResNet_results = {\"Training\":[0.995,0.995,0.995],\n",
    "            \"Validation\":[0.966,0.966,0.966],\n",
    "            \"Testing\":[0.960,0.960,0.960]}\n",
    "Resnet_model = pd.DataFrame(ResNet_results,index= pd.Index([\"Accuracy\",\"Precision\",\"Recall\"]))"
   ]
  },
  {
   "cell_type": "code",
   "execution_count": 24,
   "metadata": {},
   "outputs": [
    {
     "data": {
      "text/html": [
       "<div>\n",
       "<style scoped>\n",
       "    .dataframe tbody tr th:only-of-type {\n",
       "        vertical-align: middle;\n",
       "    }\n",
       "\n",
       "    .dataframe tbody tr th {\n",
       "        vertical-align: top;\n",
       "    }\n",
       "\n",
       "    .dataframe thead th {\n",
       "        text-align: right;\n",
       "    }\n",
       "</style>\n",
       "<table border=\"1\" class=\"dataframe\">\n",
       "  <thead>\n",
       "    <tr style=\"text-align: right;\">\n",
       "      <th></th>\n",
       "      <th>Training</th>\n",
       "      <th>Validation</th>\n",
       "      <th>Testing</th>\n",
       "    </tr>\n",
       "  </thead>\n",
       "  <tbody>\n",
       "    <tr>\n",
       "      <th>Accuracy</th>\n",
       "      <td>0.995</td>\n",
       "      <td>0.966</td>\n",
       "      <td>0.96</td>\n",
       "    </tr>\n",
       "    <tr>\n",
       "      <th>Precision</th>\n",
       "      <td>0.995</td>\n",
       "      <td>0.966</td>\n",
       "      <td>0.96</td>\n",
       "    </tr>\n",
       "    <tr>\n",
       "      <th>Recall</th>\n",
       "      <td>0.995</td>\n",
       "      <td>0.966</td>\n",
       "      <td>0.96</td>\n",
       "    </tr>\n",
       "  </tbody>\n",
       "</table>\n",
       "</div>"
      ],
      "text/plain": [
       "           Training  Validation  Testing\n",
       "Accuracy      0.995       0.966     0.96\n",
       "Precision     0.995       0.966     0.96\n",
       "Recall        0.995       0.966     0.96"
      ]
     },
     "execution_count": 24,
     "metadata": {},
     "output_type": "execute_result"
    }
   ],
   "source": [
    "Resnet_model"
   ]
  },
  {
   "cell_type": "markdown",
   "metadata": {},
   "source": [
    "### InceptionV3"
   ]
  },
  {
   "cell_type": "code",
   "execution_count": 37,
   "metadata": {},
   "outputs": [
    {
     "name": "stdout",
     "output_type": "stream",
     "text": [
      "Model: \"sequential_2\"\n",
      "_________________________________________________________________\n",
      " Layer (type)                Output Shape              Param #   \n",
      "=================================================================\n",
      " inception_v3 (Functional)   (None, 6, 6, 2048)        21802784  \n",
      "                                                                 \n",
      " flatten_2 (Flatten)         (None, 73728)             0         \n",
      "                                                                 \n",
      " dropout_4 (Dropout)         (None, 73728)             0         \n",
      "                                                                 \n",
      " dense_4 (Dense)             (None, 128)               9437312   \n",
      "                                                                 \n",
      " dropout_5 (Dropout)         (None, 128)               0         \n",
      "                                                                 \n",
      " dense_5 (Dense)             (None, 4)                 516       \n",
      "                                                                 \n",
      "=================================================================\n",
      "Total params: 31,240,612\n",
      "Trainable params: 9,437,828\n",
      "Non-trainable params: 21,802,784\n",
      "_________________________________________________________________\n"
     ]
    }
   ],
   "source": [
    "inception = tf.keras.applications.InceptionV3(weights = \"imagenet\", input_shape = (256,256,3),include_top=False)\n",
    "for layer in inception.layers:\n",
    "    layer.trainable = False\n",
    "\n",
    "model2 = Sequential()\n",
    "model2.add(Input(shape=(256,256,3)))\n",
    "model2.add(inception)\n",
    "model2.add(Flatten())\n",
    "model2.add(Dropout(0.25))\n",
    "model2.add(Dense(128, activation='relu'))\n",
    "model2.add(Dropout(0.2))\n",
    "model2.add(Dense(4, activation='softmax')) \n",
    "\n",
    "model2.summary()\n"
   ]
  },
  {
   "cell_type": "code",
   "execution_count": 38,
   "metadata": {},
   "outputs": [],
   "source": [
    "model2.compile(optimizer=Adam(learning_rate=0.0001),\n",
    "             loss='categorical_crossentropy',\n",
    "             metrics=['accuracy',tf.keras.metrics.Precision(),tf.keras.metrics.Recall()])\n",
    "\n",
    "             "
   ]
  },
  {
   "cell_type": "code",
   "execution_count": 39,
   "metadata": {},
   "outputs": [
    {
     "name": "stdout",
     "output_type": "stream",
     "text": [
      "Epoch 1/15\n",
      "143/143 [==============================] - 28s 163ms/step - loss: 2.7698 - accuracy: 0.5851 - precision_2: 0.6652 - recall_2: 0.4652 - val_loss: 0.6892 - val_accuracy: 0.6900 - val_precision_2: 0.7885 - val_recall_2: 0.5779\n",
      "Epoch 2/15\n",
      "143/143 [==============================] - 20s 143ms/step - loss: 0.7854 - accuracy: 0.6801 - precision_2: 0.7898 - recall_2: 0.5796 - val_loss: 0.6147 - val_accuracy: 0.7128 - val_precision_2: 0.8117 - val_recall_2: 0.6191\n",
      "Epoch 3/15\n",
      "143/143 [==============================] - 20s 141ms/step - loss: 0.6484 - accuracy: 0.7341 - precision_2: 0.8269 - recall_2: 0.6556 - val_loss: 0.4896 - val_accuracy: 0.8240 - val_precision_2: 0.8651 - val_recall_2: 0.7863\n",
      "Epoch 4/15\n",
      "143/143 [==============================] - 21s 144ms/step - loss: 0.5335 - accuracy: 0.7845 - precision_2: 0.8489 - recall_2: 0.7265 - val_loss: 0.4090 - val_accuracy: 0.8520 - val_precision_2: 0.8912 - val_recall_2: 0.8179\n",
      "Epoch 5/15\n",
      "143/143 [==============================] - 20s 141ms/step - loss: 0.4899 - accuracy: 0.7980 - precision_2: 0.8659 - recall_2: 0.7488 - val_loss: 0.3835 - val_accuracy: 0.8687 - val_precision_2: 0.9081 - val_recall_2: 0.8310\n",
      "Epoch 6/15\n",
      "143/143 [==============================] - 20s 141ms/step - loss: 0.4981 - accuracy: 0.7996 - precision_2: 0.8623 - recall_2: 0.7374 - val_loss: 0.4126 - val_accuracy: 0.8310 - val_precision_2: 0.8551 - val_recall_2: 0.8214\n",
      "Epoch 7/15\n",
      "143/143 [==============================] - 21s 147ms/step - loss: 0.4756 - accuracy: 0.8015 - precision_2: 0.8752 - recall_2: 0.7490 - val_loss: 0.4764 - val_accuracy: 0.8634 - val_precision_2: 0.9283 - val_recall_2: 0.7364\n",
      "Epoch 8/15\n",
      "143/143 [==============================] - 21s 144ms/step - loss: 0.4166 - accuracy: 0.8217 - precision_2: 0.8843 - recall_2: 0.7775 - val_loss: 0.3777 - val_accuracy: 0.8651 - val_precision_2: 0.9029 - val_recall_2: 0.8389\n",
      "Epoch 9/15\n",
      "143/143 [==============================] - 20s 141ms/step - loss: 0.3687 - accuracy: 0.8315 - precision_2: 0.8984 - recall_2: 0.8026 - val_loss: 0.3100 - val_accuracy: 0.8949 - val_precision_2: 0.9137 - val_recall_2: 0.8809\n",
      "Epoch 10/15\n",
      "143/143 [==============================] - 20s 142ms/step - loss: 0.3615 - accuracy: 0.8444 - precision_2: 0.8980 - recall_2: 0.8070 - val_loss: 0.3797 - val_accuracy: 0.8678 - val_precision_2: 0.9206 - val_recall_2: 0.8327\n",
      "Epoch 11/15\n",
      "143/143 [==============================] - 21s 144ms/step - loss: 0.3432 - accuracy: 0.8484 - precision_2: 0.9026 - recall_2: 0.8074 - val_loss: 0.3047 - val_accuracy: 0.8774 - val_precision_2: 0.9092 - val_recall_2: 0.8503\n",
      "Epoch 12/15\n",
      "143/143 [==============================] - 21s 146ms/step - loss: 0.3185 - accuracy: 0.8630 - precision_2: 0.9076 - recall_2: 0.8252 - val_loss: 0.3566 - val_accuracy: 0.8363 - val_precision_2: 0.8836 - val_recall_2: 0.8109\n",
      "Epoch 13/15\n",
      "143/143 [==============================] - 21s 145ms/step - loss: 0.3091 - accuracy: 0.8606 - precision_2: 0.9156 - recall_2: 0.8304 - val_loss: 0.2598 - val_accuracy: 0.9124 - val_precision_2: 0.9332 - val_recall_2: 0.8932\n",
      "Epoch 14/15\n",
      "143/143 [==============================] - 21s 144ms/step - loss: 0.2953 - accuracy: 0.8685 - precision_2: 0.9082 - recall_2: 0.8357 - val_loss: 0.2757 - val_accuracy: 0.9072 - val_precision_2: 0.9241 - val_recall_2: 0.8949\n",
      "Epoch 15/15\n",
      "143/143 [==============================] - 21s 144ms/step - loss: 0.2916 - accuracy: 0.8720 - precision_2: 0.9195 - recall_2: 0.8420 - val_loss: 0.2583 - val_accuracy: 0.9072 - val_precision_2: 0.9250 - val_recall_2: 0.8958\n"
     ]
    }
   ],
   "source": [
    "history2 = model2.fit(training_data, \n",
    "          epochs=15,\n",
    "          validation_data=validation_data\n",
    "         )"
   ]
  },
  {
   "cell_type": "code",
   "execution_count": 40,
   "metadata": {},
   "outputs": [
    {
     "data": {
      "image/png": "[encoded data removed]",
      "text/plain": [
       "<Figure size 360x360 with 1 Axes>"
      ]
     },
     "metadata": {
      "needs_background": "light"
     },
     "output_type": "display_data"
    },
    {
     "data": {
      "image/png": "[encoded data removed]",
      "text/plain": [
       "<Figure size 360x360 with 1 Axes>"
      ]
     },
     "metadata": {
      "needs_background": "light"
     },
     "output_type": "display_data"
    }
   ],
   "source": [
    "plt.figure(figsize=(5,5))\n",
    "# summarize history for accuracy\n",
    "hist2=history2.history\n",
    "plt.plot(hist2[\"accuracy\"],color=\"b\",label=\"train_accuracy\")\n",
    "plt.plot(hist2[\"val_accuracy\"],color=\"g\",label=\"val_accuracy\")\n",
    "plt.title('model accuracy')\n",
    "plt.ylabel('accuracy')\n",
    "plt.xlabel('epoch')\n",
    "plt.legend(loc=\"lower right\")\n",
    "plt.show()\n",
    "\n",
    "plt.figure(figsize=(5,5))\n",
    "# summarize history for loss\n",
    "plt.plot(hist2['loss'],color=\"b\",label=\"train_loss\")\n",
    "plt.plot(hist2['val_loss'],color=\"g\",label=\"val_loss\")\n",
    "plt.title('model loss')\n",
    "plt.ylabel('loss')\n",
    "plt.xlabel('epoch')\n",
    "plt.legend( loc='upper left')\n",
    "plt.show()"
   ]
  },
  {
   "cell_type": "code",
   "execution_count": 41,
   "metadata": {},
   "outputs": [
    {
     "name": "stdout",
     "output_type": "stream",
     "text": [
      "143/143 [==============================] - 16s 110ms/step - loss: 0.1175 - accuracy: 0.9683 - precision_2: 0.9797 - recall_2: 0.9600\n"
     ]
    },
    {
     "data": {
      "text/plain": [
       "[0.1175323948264122,\n",
       " 0.9682713150978088,\n",
       " 0.9796784520149231,\n",
       " 0.9599562287330627]"
      ]
     },
     "execution_count": 41,
     "metadata": {},
     "output_type": "execute_result"
    }
   ],
   "source": [
    "model2.evaluate(training_data)"
   ]
  },
  {
   "cell_type": "code",
   "execution_count": 42,
   "metadata": {},
   "outputs": [
    {
     "name": "stdout",
     "output_type": "stream",
     "text": [
      "36/36 [==============================] - 4s 107ms/step - loss: 0.2583 - accuracy: 0.9072 - precision_2: 0.9250 - recall_2: 0.8958\n"
     ]
    },
    {
     "data": {
      "text/plain": [
       "[0.2583107352256775,\n",
       " 0.9071803689002991,\n",
       " 0.9249547719955444,\n",
       " 0.8957968354225159]"
      ]
     },
     "execution_count": 42,
     "metadata": {},
     "output_type": "execute_result"
    }
   ],
   "source": [
    "model2.evaluate(validation_data)"
   ]
  },
  {
   "cell_type": "code",
   "execution_count": 43,
   "metadata": {},
   "outputs": [
    {
     "name": "stdout",
     "output_type": "stream",
     "text": [
      "41/41 [==============================] - 6s 136ms/step - loss: 0.2468 - accuracy: 0.9077 - precision_2: 0.9251 - recall_2: 0.8947\n"
     ]
    },
    {
     "data": {
      "text/plain": [
       "[0.24682731926441193,\n",
       " 0.9077040553092957,\n",
       " 0.9250788688659668,\n",
       " 0.8947368264198303]"
      ]
     },
     "execution_count": 43,
     "metadata": {},
     "output_type": "execute_result"
    }
   ],
   "source": [
    "model2.evaluate(testing_data)"
   ]
  },
  {
   "cell_type": "code",
   "execution_count": 25,
   "metadata": {},
   "outputs": [],
   "source": [
    "inception_results = {\"Training\":[0.872,0.919,0.842],\n",
    "            \"Validation\":[0.907,0.925,0.895],\n",
    "            \"Testing\":[0.907,0.925,0.894]}\n",
    "inception_model = pd.DataFrame(inception_results,index= pd.Index([\"Accuracy\",\"Precision\",\"Recall\"]))"
   ]
  },
  {
   "cell_type": "code",
   "execution_count": 26,
   "metadata": {},
   "outputs": [
    {
     "data": {
      "text/html": [
       "<div>\n",
       "<style scoped>\n",
       "    .dataframe tbody tr th:only-of-type {\n",
       "        vertical-align: middle;\n",
       "    }\n",
       "\n",
       "    .dataframe tbody tr th {\n",
       "        vertical-align: top;\n",
       "    }\n",
       "\n",
       "    .dataframe thead th {\n",
       "        text-align: right;\n",
       "    }\n",
       "</style>\n",
       "<table border=\"1\" class=\"dataframe\">\n",
       "  <thead>\n",
       "    <tr style=\"text-align: right;\">\n",
       "      <th></th>\n",
       "      <th>Training</th>\n",
       "      <th>Validation</th>\n",
       "      <th>Testing</th>\n",
       "    </tr>\n",
       "  </thead>\n",
       "  <tbody>\n",
       "    <tr>\n",
       "      <th>Accuracy</th>\n",
       "      <td>0.872</td>\n",
       "      <td>0.907</td>\n",
       "      <td>0.907</td>\n",
       "    </tr>\n",
       "    <tr>\n",
       "      <th>Precision</th>\n",
       "      <td>0.919</td>\n",
       "      <td>0.925</td>\n",
       "      <td>0.925</td>\n",
       "    </tr>\n",
       "    <tr>\n",
       "      <th>Recall</th>\n",
       "      <td>0.842</td>\n",
       "      <td>0.895</td>\n",
       "      <td>0.894</td>\n",
       "    </tr>\n",
       "  </tbody>\n",
       "</table>\n",
       "</div>"
      ],
      "text/plain": [
       "           Training  Validation  Testing\n",
       "Accuracy      0.872       0.907    0.907\n",
       "Precision     0.919       0.925    0.925\n",
       "Recall        0.842       0.895    0.894"
      ]
     },
     "execution_count": 26,
     "metadata": {},
     "output_type": "execute_result"
    }
   ],
   "source": [
    "inception_model"
   ]
  },
  {
   "cell_type": "markdown",
   "metadata": {},
   "source": [
    "### vgg16"
   ]
  },
  {
   "cell_type": "code",
   "execution_count": 25,
   "metadata": {},
   "outputs": [
    {
     "name": "stdout",
     "output_type": "stream",
     "text": [
      "Found 5712 files belonging to 4 classes.\n",
      "Using 4570 files for training.\n"
     ]
    }
   ],
   "source": [
    "training_data1 = tf.keras.utils.image_dataset_from_directory(\n",
    "    training_path,\n",
    "    validation_split = 0.2,\n",
    "    seed = 48,\n",
    "    subset='training',\n",
    "    batch_size = 8,\n",
    "    image_size=(256, 256),\n",
    "    shuffle=True,\n",
    "    label_mode='categorical',\n",
    ")"
   ]
  },
  {
   "cell_type": "code",
   "execution_count": 26,
   "metadata": {},
   "outputs": [
    {
     "name": "stdout",
     "output_type": "stream",
     "text": [
      "Found 5712 files belonging to 4 classes.\n",
      "Using 1142 files for validation.\n"
     ]
    }
   ],
   "source": [
    "validation_data1 = tf.keras.utils.image_dataset_from_directory(\n",
    "    training_path,\n",
    "    validation_split = 0.2,\n",
    "    seed = 48,\n",
    "    batch_size = 8,\n",
    "    image_size=(256, 256),\n",
    "    shuffle=True,\n",
    "    subset='validation',\n",
    "    label_mode='categorical',\n",
    ")"
   ]
  },
  {
   "cell_type": "code",
   "execution_count": 27,
   "metadata": {},
   "outputs": [
    {
     "name": "stdout",
     "output_type": "stream",
     "text": [
      "Found 1311 files belonging to 4 classes.\n"
     ]
    }
   ],
   "source": [
    "testing_data1 = tf.keras.utils.image_dataset_from_directory(\n",
    "    testing_path,\n",
    "    seed = 48,\n",
    "    batch_size = 8,\n",
    "    image_size = (256, 256),\n",
    "    shuffle = True,\n",
    "    label_mode = \"categorical\",\n",
    ")"
   ]
  },
  {
   "cell_type": "code",
   "execution_count": 47,
   "metadata": {},
   "outputs": [
    {
     "name": "stdout",
     "output_type": "stream",
     "text": [
      "Model: \"sequential_3\"\n",
      "_________________________________________________________________\n",
      " Layer (type)                Output Shape              Param #   \n",
      "=================================================================\n",
      " vgg16 (Functional)          (None, 8, 8, 512)         14714688  \n",
      "                                                                 \n",
      " flatten_3 (Flatten)         (None, 32768)             0         \n",
      "                                                                 \n",
      " dropout_6 (Dropout)         (None, 32768)             0         \n",
      "                                                                 \n",
      " dense_6 (Dense)             (None, 128)               4194432   \n",
      "                                                                 \n",
      " dropout_7 (Dropout)         (None, 128)               0         \n",
      "                                                                 \n",
      " dense_7 (Dense)             (None, 4)                 516       \n",
      "                                                                 \n",
      "=================================================================\n",
      "Total params: 18,909,636\n",
      "Trainable params: 4,194,948\n",
      "Non-trainable params: 14,714,688\n",
      "_________________________________________________________________\n"
     ]
    }
   ],
   "source": [
    "vgg16 = tf.keras.applications.VGG16(weights = \"imagenet\",input_shape = (256,256,3),include_top = False)\n",
    "for layer in vgg16.layers:\n",
    "    layer.trainable = False\n",
    "\n",
    "model3 = Sequential()\n",
    "model3.add(Input(shape=(256,256,3)))\n",
    "model3.add(vgg16)\n",
    "model3.add(Flatten())\n",
    "model3.add(Dropout(0.25))\n",
    "model3.add(Dense(128, activation='relu'))\n",
    "model3.add(Dropout(0.2))\n",
    "model3.add(Dense(4, activation='softmax')) \n",
    "\n",
    "model3.summary()"
   ]
  },
  {
   "cell_type": "code",
   "execution_count": 48,
   "metadata": {},
   "outputs": [],
   "source": [
    "model3.compile(optimizer=Adam(learning_rate=0.0001),\n",
    "             loss='categorical_crossentropy',\n",
    "             metrics=['accuracy',tf.keras.metrics.Precision(),tf.keras.metrics.Recall()])\n",
    "             "
   ]
  },
  {
   "cell_type": "code",
   "execution_count": 49,
   "metadata": {},
   "outputs": [
    {
     "name": "stdout",
     "output_type": "stream",
     "text": [
      "Epoch 1/15\n",
      "572/572 [==============================] - 59s 100ms/step - loss: 1.4180 - accuracy: 0.8079 - precision_3: 0.8154 - recall_3: 0.8050 - val_loss: 0.3060 - val_accuracy: 0.8905 - val_precision_3: 0.8973 - val_recall_3: 0.8870\n",
      "Epoch 2/15\n",
      "572/572 [==============================] - 55s 97ms/step - loss: 0.3237 - accuracy: 0.9000 - precision_3: 0.9060 - recall_3: 0.8947 - val_loss: 0.2437 - val_accuracy: 0.9221 - val_precision_3: 0.9274 - val_recall_3: 0.9177\n",
      "Epoch 3/15\n",
      "572/572 [==============================] - 56s 98ms/step - loss: 0.1876 - accuracy: 0.9348 - precision_3: 0.9378 - recall_3: 0.9311 - val_loss: 0.2978 - val_accuracy: 0.9133 - val_precision_3: 0.9156 - val_recall_3: 0.9116\n",
      "Epoch 4/15\n",
      "572/572 [==============================] - 56s 98ms/step - loss: 0.1456 - accuracy: 0.9514 - precision_3: 0.9524 - recall_3: 0.9492 - val_loss: 0.1719 - val_accuracy: 0.9562 - val_precision_3: 0.9562 - val_recall_3: 0.9553\n",
      "Epoch 5/15\n",
      "572/572 [==============================] - 56s 98ms/step - loss: 0.1133 - accuracy: 0.9661 - precision_3: 0.9663 - recall_3: 0.9652 - val_loss: 0.1478 - val_accuracy: 0.9597 - val_precision_3: 0.9597 - val_recall_3: 0.9588\n",
      "Epoch 6/15\n",
      "572/572 [==============================] - 56s 98ms/step - loss: 0.0764 - accuracy: 0.9759 - precision_3: 0.9763 - recall_3: 0.9748 - val_loss: 0.1878 - val_accuracy: 0.9510 - val_precision_3: 0.9509 - val_recall_3: 0.9501\n",
      "Epoch 7/15\n",
      "572/572 [==============================] - 56s 99ms/step - loss: 0.0732 - accuracy: 0.9755 - precision_3: 0.9759 - recall_3: 0.9748 - val_loss: 0.2106 - val_accuracy: 0.9518 - val_precision_3: 0.9535 - val_recall_3: 0.9510\n",
      "Epoch 8/15\n",
      "572/572 [==============================] - 56s 98ms/step - loss: 0.0626 - accuracy: 0.9775 - precision_3: 0.9789 - recall_3: 0.9764 - val_loss: 0.2403 - val_accuracy: 0.9457 - val_precision_3: 0.9465 - val_recall_3: 0.9457\n",
      "Epoch 9/15\n",
      "572/572 [==============================] - 56s 99ms/step - loss: 0.0972 - accuracy: 0.9718 - precision_3: 0.9730 - recall_3: 0.9716 - val_loss: 0.2734 - val_accuracy: 0.9343 - val_precision_3: 0.9342 - val_recall_3: 0.9326\n",
      "Epoch 10/15\n",
      "572/572 [==============================] - 56s 98ms/step - loss: 0.0478 - accuracy: 0.9836 - precision_3: 0.9842 - recall_3: 0.9832 - val_loss: 0.2244 - val_accuracy: 0.9623 - val_precision_3: 0.9632 - val_recall_3: 0.9623\n",
      "Epoch 11/15\n",
      "572/572 [==============================] - 56s 98ms/step - loss: 0.0598 - accuracy: 0.9786 - precision_3: 0.9794 - recall_3: 0.9777 - val_loss: 0.2316 - val_accuracy: 0.9667 - val_precision_3: 0.9667 - val_recall_3: 0.9667\n",
      "Epoch 12/15\n",
      "572/572 [==============================] - 56s 98ms/step - loss: 0.0517 - accuracy: 0.9829 - precision_3: 0.9834 - recall_3: 0.9829 - val_loss: 0.1971 - val_accuracy: 0.9623 - val_precision_3: 0.9623 - val_recall_3: 0.9623\n",
      "Epoch 13/15\n",
      "572/572 [==============================] - 56s 98ms/step - loss: 0.0497 - accuracy: 0.9842 - precision_3: 0.9845 - recall_3: 0.9842 - val_loss: 0.2253 - val_accuracy: 0.9650 - val_precision_3: 0.9650 - val_recall_3: 0.9650\n",
      "Epoch 14/15\n",
      "572/572 [==============================] - 90s 157ms/step - loss: 0.0450 - accuracy: 0.9864 - precision_3: 0.9866 - recall_3: 0.9862 - val_loss: 0.2248 - val_accuracy: 0.9588 - val_precision_3: 0.9588 - val_recall_3: 0.9580\n",
      "Epoch 15/15\n",
      "572/572 [==============================] - 96s 168ms/step - loss: 0.0435 - accuracy: 0.9875 - precision_3: 0.9880 - recall_3: 0.9875 - val_loss: 0.2554 - val_accuracy: 0.9641 - val_precision_3: 0.9641 - val_recall_3: 0.9641\n"
     ]
    }
   ],
   "source": [
    "history3 = model3.fit(training_data1, \n",
    "          epochs=15,\n",
    "          validation_data=validation_data1  \n",
    "         )"
   ]
  },
  {
   "cell_type": "code",
   "execution_count": 50,
   "metadata": {},
   "outputs": [
    {
     "data": {
      "image/png": "[encoded data removed]",
      "text/plain": [
       "<Figure size 360x360 with 1 Axes>"
      ]
     },
     "metadata": {
      "needs_background": "light"
     },
     "output_type": "display_data"
    },
    {
     "data": {
      "image/png": "[encoded data removed]",
      "text/plain": [
       "<Figure size 360x360 with 1 Axes>"
      ]
     },
     "metadata": {
      "needs_background": "light"
     },
     "output_type": "display_data"
    }
   ],
   "source": [
    "plt.figure(figsize=(5,5))\n",
    "# summarize history for accuracy\n",
    "hist3=history3.history\n",
    "plt.plot(hist3[\"accuracy\"],color=\"b\",label=\"train_accuracy\")\n",
    "plt.plot(hist3[\"val_accuracy\"],color=\"g\",label=\"val_accuracy\")\n",
    "plt.title('model accuracy')\n",
    "plt.ylabel('accuracy')\n",
    "plt.xlabel('epoch')\n",
    "plt.legend(loc=\"lower right\")\n",
    "plt.show()\n",
    "\n",
    "plt.figure(figsize=(5,5))\n",
    "# summarize history for loss\n",
    "plt.plot(hist3['loss'],color=\"b\",label=\"train_loss\")\n",
    "plt.plot(hist3['val_loss'],color=\"g\",label=\"val_loss\")\n",
    "plt.title('model loss')\n",
    "plt.ylabel('loss')\n",
    "plt.xlabel('epoch')\n",
    "plt.legend( loc='upper left')\n",
    "plt.show()"
   ]
  },
  {
   "cell_type": "code",
   "execution_count": 51,
   "metadata": {},
   "outputs": [
    {
     "name": "stdout",
     "output_type": "stream",
     "text": [
      "143/143 [==============================] - 18s 126ms/step - loss: 0.2554 - accuracy: 0.9641 - precision_3: 0.9641 - recall_3: 0.9641\n"
     ]
    },
    {
     "data": {
      "text/plain": [
       "[0.2553768455982208,\n",
       " 0.9640980958938599,\n",
       " 0.9640980958938599,\n",
       " 0.9640980958938599]"
      ]
     },
     "execution_count": 51,
     "metadata": {},
     "output_type": "execute_result"
    }
   ],
   "source": [
    "model3.evaluate(validation_data1)"
   ]
  },
  {
   "cell_type": "code",
   "execution_count": 54,
   "metadata": {},
   "outputs": [
    {
     "name": "stdout",
     "output_type": "stream",
     "text": [
      "164/164 [==============================] - 71s 431ms/step - loss: 0.2493 - accuracy: 0.9527 - precision_3: 0.9527 - recall_3: 0.9527\n"
     ]
    },
    {
     "data": {
      "text/plain": [
       "[0.2492668628692627, 0.952707827091217, 0.952707827091217, 0.952707827091217]"
      ]
     },
     "execution_count": 54,
     "metadata": {},
     "output_type": "execute_result"
    }
   ],
   "source": [
    "model3.evaluate(testing_data1)"
   ]
  },
  {
   "cell_type": "code",
   "execution_count": 21,
   "metadata": {},
   "outputs": [],
   "source": [
    "\n",
    "vgg_results = {\"Training\":[0.987,0.988,0.987],\n",
    "            \"Validation\":[0.964,0.964,0.964],\n",
    "            \"Testing\":[0.952,0.952,0.952]}\n",
    "vgg_model = pd.DataFrame(vgg_results,index= pd.Index([\"Accuracy\",\"Precision\",\"Recall\"]))"
   ]
  },
  {
   "cell_type": "code",
   "execution_count": 22,
   "metadata": {},
   "outputs": [
    {
     "data": {
      "text/html": [
       "<div>\n",
       "<style scoped>\n",
       "    .dataframe tbody tr th:only-of-type {\n",
       "        vertical-align: middle;\n",
       "    }\n",
       "\n",
       "    .dataframe tbody tr th {\n",
       "        vertical-align: top;\n",
       "    }\n",
       "\n",
       "    .dataframe thead th {\n",
       "        text-align: right;\n",
       "    }\n",
       "</style>\n",
       "<table border=\"1\" class=\"dataframe\">\n",
       "  <thead>\n",
       "    <tr style=\"text-align: right;\">\n",
       "      <th></th>\n",
       "      <th>Training</th>\n",
       "      <th>Validation</th>\n",
       "      <th>Testing</th>\n",
       "    </tr>\n",
       "  </thead>\n",
       "  <tbody>\n",
       "    <tr>\n",
       "      <th>Accuracy</th>\n",
       "      <td>0.987</td>\n",
       "      <td>0.964</td>\n",
       "      <td>0.952</td>\n",
       "    </tr>\n",
       "    <tr>\n",
       "      <th>Precision</th>\n",
       "      <td>0.988</td>\n",
       "      <td>0.964</td>\n",
       "      <td>0.952</td>\n",
       "    </tr>\n",
       "    <tr>\n",
       "      <th>Recall</th>\n",
       "      <td>0.987</td>\n",
       "      <td>0.964</td>\n",
       "      <td>0.952</td>\n",
       "    </tr>\n",
       "  </tbody>\n",
       "</table>\n",
       "</div>"
      ],
      "text/plain": [
       "           Training  Validation  Testing\n",
       "Accuracy      0.987       0.964    0.952\n",
       "Precision     0.988       0.964    0.952\n",
       "Recall        0.987       0.964    0.952"
      ]
     },
     "execution_count": 22,
     "metadata": {},
     "output_type": "execute_result"
    }
   ],
   "source": [
    "vgg_model"
   ]
  },
  {
   "cell_type": "markdown",
   "metadata": {},
   "source": [
    "#### Xception"
   ]
  },
  {
   "cell_type": "code",
   "execution_count": 13,
   "metadata": {},
   "outputs": [],
   "source": [
    "base_model = tf.keras.applications.Xception(\n",
    "    include_top=False, \n",
    "    weights = 'imagenet',\n",
    "    input_shape = (256, 256, 3) )\n",
    "\n",
    "    "
   ]
  },
  {
   "cell_type": "code",
   "execution_count": 14,
   "metadata": {},
   "outputs": [],
   "source": [
    "base_model.trainable = False"
   ]
  },
  {
   "cell_type": "code",
   "execution_count": 15,
   "metadata": {},
   "outputs": [],
   "source": [
    "data_augmentation = tf.keras.Sequential([\n",
    "    tf.keras.layers.RandomFlip(\"horizontal\"),\n",
    "    tf.keras.layers.RandomRotation(0.1),\n",
    "    tf.keras.layers.RandomTranslation(height_factor = 0.1, width_factor = 0.1),\n",
    "    tf.keras.layers.RandomContrast(factor = 0.1)]\n",
    ")"
   ]
  },
  {
   "cell_type": "code",
   "execution_count": 16,
   "metadata": {},
   "outputs": [],
   "source": [
    "prediction_layer = tf.keras.layers.Dense(4, activation = \"softmax\")"
   ]
  },
  {
   "cell_type": "code",
   "execution_count": 17,
   "metadata": {},
   "outputs": [],
   "source": [
    "inputs = tf.keras.Input((256, 256, 3))\n",
    "x = data_augmentation(inputs)\n",
    "\n",
    "x = tf.keras.applications.xception.preprocess_input(x)\n",
    "x = base_model(x, training = False)\n",
    "x = tf.keras.layers.Flatten()(x)\n",
    "\n",
    "x = tf.keras.layers.Dense(128, activation='relu')(x)\n",
    "x = tf.keras.layers.Dropout(0.1)(x)\n",
    "x = tf.keras.layers.BatchNormalization()(x)\n",
    "\n",
    "x = tf.keras.layers.Dense(64, activation='relu')(x)\n",
    "x = tf.keras.layers.Dropout(0.2)(x)\n",
    "\n",
    "outputs = prediction_layer(x)"
   ]
  },
  {
   "cell_type": "code",
   "execution_count": 20,
   "metadata": {},
   "outputs": [],
   "source": [
    "model_xcep = tf.keras.Model(inputs=inputs, outputs=outputs)"
   ]
  },
  {
   "cell_type": "code",
   "execution_count": 21,
   "metadata": {},
   "outputs": [
    {
     "name": "stdout",
     "output_type": "stream",
     "text": [
      "Model: \"model_1\"\n",
      "_________________________________________________________________\n",
      " Layer (type)                Output Shape              Param #   \n",
      "=================================================================\n",
      " input_4 (InputLayer)        [(None, 256, 256, 3)]     0         \n",
      "                                                                 \n",
      " sequential_1 (Sequential)   (None, 256, 256, 3)       0         \n",
      "                                                                 \n",
      " tf.math.truediv (TFOpLambda  (None, 256, 256, 3)      0         \n",
      " )                                                               \n",
      "                                                                 \n",
      " tf.math.subtract (TFOpLambd  (None, 256, 256, 3)      0         \n",
      " a)                                                              \n",
      "                                                                 \n",
      " xception (Functional)       (None, 8, 8, 2048)        20861480  \n",
      "                                                                 \n",
      " flatten_1 (Flatten)         (None, 131072)            0         \n",
      "                                                                 \n",
      " dense_3 (Dense)             (None, 128)               16777344  \n",
      "                                                                 \n",
      " dropout_2 (Dropout)         (None, 128)               0         \n",
      "                                                                 \n",
      " batch_normalization_8 (Batc  (None, 128)              512       \n",
      " hNormalization)                                                 \n",
      "                                                                 \n",
      " dense_4 (Dense)             (None, 64)                8256      \n",
      "                                                                 \n",
      " dropout_3 (Dropout)         (None, 64)                0         \n",
      "                                                                 \n",
      " dense_2 (Dense)             (None, 4)                 260       \n",
      "                                                                 \n",
      "=================================================================\n",
      "Total params: 37,647,852\n",
      "Trainable params: 16,786,116\n",
      "Non-trainable params: 20,861,736\n",
      "_________________________________________________________________\n"
     ]
    }
   ],
   "source": [
    "model_xcep.summary()"
   ]
  },
  {
   "cell_type": "code",
   "execution_count": 22,
   "metadata": {},
   "outputs": [],
   "source": [
    "model_xcep.compile(\n",
    "  loss=tf.keras.losses.CategoricalCrossentropy(),\n",
    "  optimizer=tf.keras.optimizers.Adam(learning_rate=0.0001),\n",
    "  metrics=['accuracy',tf.keras.metrics.Precision(),tf.keras.metrics.Recall()]\n",
    "  )\n"
   ]
  },
  {
   "cell_type": "code",
   "execution_count": 28,
   "metadata": {},
   "outputs": [
    {
     "name": "stdout",
     "output_type": "stream",
     "text": [
      "Epoch 1/15\n",
      "572/572 [==============================] - 98s 170ms/step - loss: 0.6381 - accuracy: 0.7641 - precision_1: 0.8279 - recall_1: 0.6886 - val_loss: 0.3737 - val_accuracy: 0.8555 - val_precision_1: 0.8791 - val_recall_1: 0.8214\n",
      "Epoch 2/15\n",
      "572/572 [==============================] - 97s 170ms/step - loss: 0.4933 - accuracy: 0.8298 - precision_1: 0.8663 - recall_1: 0.7713 - val_loss: 0.3088 - val_accuracy: 0.8949 - val_precision_1: 0.9133 - val_recall_1: 0.8581\n",
      "Epoch 3/15\n",
      "572/572 [==============================] - 146s 255ms/step - loss: 0.4611 - accuracy: 0.8420 - precision_1: 0.8770 - recall_1: 0.7928 - val_loss: 0.3073 - val_accuracy: 0.8923 - val_precision_1: 0.9106 - val_recall_1: 0.8739\n",
      "Epoch 4/15\n",
      "572/572 [==============================] - 257s 449ms/step - loss: 0.4262 - accuracy: 0.8479 - precision_1: 0.8846 - recall_1: 0.8120 - val_loss: 0.3331 - val_accuracy: 0.8800 - val_precision_1: 0.9042 - val_recall_1: 0.8599\n",
      "Epoch 5/15\n",
      "572/572 [==============================] - 276s 483ms/step - loss: 0.3910 - accuracy: 0.8663 - precision_1: 0.8931 - recall_1: 0.8263 - val_loss: 0.2308 - val_accuracy: 0.9264 - val_precision_1: 0.9360 - val_recall_1: 0.9089\n",
      "Epoch 6/15\n",
      "572/572 [==============================] - 275s 481ms/step - loss: 0.3791 - accuracy: 0.8724 - precision_1: 0.8983 - recall_1: 0.8446 - val_loss: 0.2306 - val_accuracy: 0.9168 - val_precision_1: 0.9283 - val_recall_1: 0.9072\n",
      "Epoch 7/15\n",
      "572/572 [==============================] - 275s 481ms/step - loss: 0.3501 - accuracy: 0.8781 - precision_1: 0.8978 - recall_1: 0.8492 - val_loss: 0.2350 - val_accuracy: 0.9194 - val_precision_1: 0.9317 - val_recall_1: 0.9081\n",
      "Epoch 8/15\n",
      "572/572 [==============================] - 275s 481ms/step - loss: 0.3573 - accuracy: 0.8744 - precision_1: 0.8961 - recall_1: 0.8477 - val_loss: 0.2154 - val_accuracy: 0.9247 - val_precision_1: 0.9363 - val_recall_1: 0.9142\n",
      "Epoch 9/15\n",
      "572/572 [==============================] - 275s 480ms/step - loss: 0.3469 - accuracy: 0.8799 - precision_1: 0.8977 - recall_1: 0.8584 - val_loss: 0.2286 - val_accuracy: 0.9194 - val_precision_1: 0.9294 - val_recall_1: 0.9107\n",
      "Epoch 10/15\n",
      "572/572 [==============================] - 271s 475ms/step - loss: 0.3522 - accuracy: 0.8748 - precision_1: 0.8971 - recall_1: 0.8530 - val_loss: 0.2569 - val_accuracy: 0.9098 - val_precision_1: 0.9167 - val_recall_1: 0.8967\n",
      "Epoch 11/15\n",
      "572/572 [==============================] - 256s 448ms/step - loss: 0.3359 - accuracy: 0.8818 - precision_1: 0.9006 - recall_1: 0.8624 - val_loss: 0.2065 - val_accuracy: 0.9256 - val_precision_1: 0.9325 - val_recall_1: 0.9194\n",
      "Epoch 12/15\n",
      "572/572 [==============================] - 256s 448ms/step - loss: 0.3397 - accuracy: 0.8770 - precision_1: 0.8946 - recall_1: 0.8602 - val_loss: 0.2432 - val_accuracy: 0.9133 - val_precision_1: 0.9203 - val_recall_1: 0.8993\n",
      "Epoch 13/15\n",
      "572/572 [==============================] - 257s 448ms/step - loss: 0.3268 - accuracy: 0.8853 - precision_1: 0.9060 - recall_1: 0.8672 - val_loss: 0.1972 - val_accuracy: 0.9361 - val_precision_1: 0.9413 - val_recall_1: 0.9273\n",
      "Epoch 14/15\n",
      "572/572 [==============================] - 253s 442ms/step - loss: 0.3242 - accuracy: 0.8783 - precision_1: 0.8994 - recall_1: 0.8650 - val_loss: 0.4938 - val_accuracy: 0.8704 - val_precision_1: 0.8816 - val_recall_1: 0.8608\n",
      "Epoch 15/15\n",
      "572/572 [==============================] - 70s 122ms/step - loss: 0.3049 - accuracy: 0.8943 - precision_1: 0.9103 - recall_1: 0.8770 - val_loss: 0.1869 - val_accuracy: 0.9387 - val_precision_1: 0.9449 - val_recall_1: 0.9308\n"
     ]
    }
   ],
   "source": [
    "history4 = model_xcep.fit(training_data1, \n",
    "          epochs=15,\n",
    "          validation_data=validation_data1  \n",
    "         )"
   ]
  },
  {
   "cell_type": "code",
   "execution_count": null,
   "metadata": {},
   "outputs": [
    {
     "data": {
      "image/png": "[encoded data removed]",
      "text/plain": [
       "<Figure size 360x360 with 1 Axes>"
      ]
     },
     "metadata": {
      "needs_background": "light"
     },
     "output_type": "display_data"
    },
    {
     "data": {
      "image/png": "[encoded data removed]",
      "text/plain": [
       "<Figure size 360x360 with 1 Axes>"
      ]
     },
     "metadata": {
      "needs_background": "light"
     },
     "output_type": "display_data"
    }
   ],
   "source": [
    "plt.figure(figsize=(5,5))\n",
    "# summarize history for accuracy\n",
    "hist4=history4.history\n",
    "plt.plot(hist4[\"accuracy\"],color=\"b\",label=\"train_accuracy\")\n",
    "plt.plot(hist4[\"val_accuracy\"],color=\"g\",label=\"val_accuracy\")\n",
    "plt.title('model accuracy')\n",
    "plt.ylabel('accuracy')\n",
    "plt.xlabel('epoch')\n",
    "plt.legend(loc=\"lower right\")\n",
    "plt.show()\n",
    "\n",
    "plt.figure(figsize=(5,5))\n",
    "# summarize history for loss\n",
    "plt.plot(hist4['loss'],color=\"b\",label=\"train_loss\")\n",
    "plt.plot(hist4['val_loss'],color=\"g\",label=\"val_loss\")\n",
    "plt.title('model loss')\n",
    "plt.ylabel('loss')\n",
    "plt.xlabel('epoch')\n",
    "plt.legend( loc='upper left')\n",
    "plt.show()"
   ]
  },
  {
   "cell_type": "code",
   "execution_count": 31,
   "metadata": {},
   "outputs": [
    {
     "name": "stdout",
     "output_type": "stream",
     "text": [
      "164/164 [==============================] - 10s 60ms/step - loss: 0.2150 - accuracy: 0.9191 - precision_1: 0.9277 - recall_1: 0.9108\n"
     ]
    },
    {
     "data": {
      "text/plain": [
       "[0.21499419212341309,\n",
       " 0.9191457033157349,\n",
       " 0.9277389049530029,\n",
       " 0.9107551574707031]"
      ]
     },
     "execution_count": 31,
     "metadata": {},
     "output_type": "execute_result"
    }
   ],
   "source": [
    "model_xcep.evaluate(testing_data1)"
   ]
  },
  {
   "cell_type": "code",
   "execution_count": 19,
   "metadata": {},
   "outputs": [],
   "source": [
    "\n",
    "Xception_results = {\"Training\":[0.894,0.910,0.877],\n",
    "            \"Validation\":[0.938,0.944,0.930],\n",
    "            \"Testing\":[0.919,0.927,0.910]}\n",
    "Xception_model = pd.DataFrame(Xception_results,index= pd.Index([\"Accuracy\",\"Precision\",\"Recall\"]))"
   ]
  },
  {
   "cell_type": "code",
   "execution_count": 20,
   "metadata": {},
   "outputs": [
    {
     "data": {
      "text/html": [
       "<div>\n",
       "<style scoped>\n",
       "    .dataframe tbody tr th:only-of-type {\n",
       "        vertical-align: middle;\n",
       "    }\n",
       "\n",
       "    .dataframe tbody tr th {\n",
       "        vertical-align: top;\n",
       "    }\n",
       "\n",
       "    .dataframe thead th {\n",
       "        text-align: right;\n",
       "    }\n",
       "</style>\n",
       "<table border=\"1\" class=\"dataframe\">\n",
       "  <thead>\n",
       "    <tr style=\"text-align: right;\">\n",
       "      <th></th>\n",
       "      <th>Training</th>\n",
       "      <th>Validation</th>\n",
       "      <th>Testing</th>\n",
       "    </tr>\n",
       "  </thead>\n",
       "  <tbody>\n",
       "    <tr>\n",
       "      <th>Accuracy</th>\n",
       "      <td>0.894</td>\n",
       "      <td>0.938</td>\n",
       "      <td>0.919</td>\n",
       "    </tr>\n",
       "    <tr>\n",
       "      <th>Precision</th>\n",
       "      <td>0.910</td>\n",
       "      <td>0.944</td>\n",
       "      <td>0.927</td>\n",
       "    </tr>\n",
       "    <tr>\n",
       "      <th>Recall</th>\n",
       "      <td>0.877</td>\n",
       "      <td>0.930</td>\n",
       "      <td>0.910</td>\n",
       "    </tr>\n",
       "  </tbody>\n",
       "</table>\n",
       "</div>"
      ],
      "text/plain": [
       "           Training  Validation  Testing\n",
       "Accuracy      0.894       0.938    0.919\n",
       "Precision     0.910       0.944    0.927\n",
       "Recall        0.877       0.930    0.910"
      ]
     },
     "execution_count": 20,
     "metadata": {},
     "output_type": "execute_result"
    }
   ],
   "source": [
    "Xception_model"
   ]
  },
  {
   "cell_type": "code",
   "execution_count": null,
   "metadata": {},
   "outputs": [],
   "source": []
  }
 ],
 "metadata": {
  "kernelspec": {
   "display_name": "Python 3.9.12 ('Gputensorflow')",
   "language": "python",
   "name": "python3"
  },
  "language_info": {
   "codemirror_mode": {
    "name": "ipython",
    "version": 3
   },
   "file_extension": ".py",
   "mimetype": "text/x-python",
   "name": "python",
   "nbconvert_exporter": "python",
   "pygments_lexer": "ipython3",
   "version": "3.9.12"
  },
  "orig_nbformat": 4,
  "vscode": {
   "interpreter": {
    "hash": "355859d913e799f4f71358222526554ee01ce1b10a1dc575dad4fbf1006839d6"
   }
  }
 },
 "nbformat": 4,
 "nbformat_minor": 2
}
